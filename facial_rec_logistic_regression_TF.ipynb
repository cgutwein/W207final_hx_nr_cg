{
 "cells": [
  {
   "cell_type": "code",
   "execution_count": 2,
   "metadata": {},
   "outputs": [],
   "source": [
    "import tensorflow as tf\n",
    "import numpy as np\n",
    "import matplotlib.pyplot as plt\n",
    "from sklearn.datasets import fetch_mldata\n",
    "from IPython.display import display, clear_output \n",
    "from sklearn.metrics import classification_report\n",
    "from sklearn.neighbors import KNeighborsClassifier\n",
    "import time\n",
    "import csv\n",
    "%matplotlib inline"
   ]
  },
  {
   "cell_type": "markdown",
   "metadata": {},
   "source": [
    "### Import and Format Data"
   ]
  },
  {
   "cell_type": "code",
   "execution_count": 3,
   "metadata": {},
   "outputs": [],
   "source": [
    "# import training.csv which contains a header row of face locations and 'image,' the column of lists of pixel values\n",
    "with open(\"training.csv\") as f:\n",
    "    train_import = list(csv.reader(f))\n",
    "\n",
    "# shuffle the data    \n",
    "removed_header = train_import[1:]\n",
    "shuffle = np.random.permutation(np.arange(len(removed_header)))\n",
    "shuffled_train_import = [removed_header[i] for i in shuffle]\n",
    "    \n",
    "# divide the rows 80% for training and 20% for development    \n",
    "train_portion = int(.8*(len(shuffled_train_import)))\n",
    "dev_portion = len(shuffled_train_import) - train_portion\n",
    "\n",
    "# extract training and development data\n",
    "train_data = shuffled_train_import[:train_portion]\n",
    "dev_data = shuffled_train_import[-dev_portion:]"
   ]
  },
  {
   "cell_type": "code",
   "execution_count": 4,
   "metadata": {},
   "outputs": [],
   "source": [
    "'''GET TRAINING PIXEL VALUES AND TARGET DATA INTO USABLE NUMPY ARRAYS'''\n",
    "# initialize the list of lists of pixel values \n",
    "train_image_data = []\n",
    "\n",
    "# convert each list of pixel values (1 per row) to integers (first split the string up then convert each elem to int)\n",
    "for row in range(len(train_data)):\n",
    "    train_image_data.append([int(i) for i in list(train_data[row][30].split())])\n",
    "# convert to a numpy array\n",
    "train_image_data = np.array(train_image_data)\n",
    "\n",
    "# convert range of 0 to 255 for pixel values to 0 to 1 (0 = white, 1 = black)\n",
    "train_image_data = train_image_data/255.0\n",
    "    \n",
    "# initialize array of the 30 different facial location target values (labels) for each example image\n",
    "train_image_labels = np.empty((len(train_data), 30))\n",
    "\n",
    "# iterate through each row and each example image's 30 target facial locations and covert to floats or NaNs\n",
    "for i in range(len(train_data)):\n",
    "    for j in range(len(train_data[i][0:30])):\n",
    "        if train_data[i][j] == '':\n",
    "            train_image_labels[i][j] = float('nan')\n",
    "        else: \n",
    "            train_image_labels[i][j] = float(train_data[i][j])"
   ]
  },
  {
   "cell_type": "code",
   "execution_count": 5,
   "metadata": {},
   "outputs": [],
   "source": [
    "'''REPEATING SAME TREATMENT OF DATA THAT WAS DONE TO THE TRAINING PORTION'''\n",
    "# initialize the development list of lists of pixel values \n",
    "dev_image_data = []\n",
    "\n",
    "# convert each list of pixel values (1 per row) to integers (first split the string up then convert each elem to int)\n",
    "for row in range(len(dev_data)):\n",
    "    dev_image_data.append([int(i) for i in list(dev_data[row][30].split())])\n",
    "# convert to a numpy array\n",
    "dev_image_data = np.array(dev_image_data)\n",
    "\n",
    "# convert range of 0 to 255 for pixel values to 0 to 1 (0 = white, 1 = black)\n",
    "dev_image_data = dev_image_data/255.0\n",
    "\n",
    "# initialize array of the 30 different facial location target values (labels) for each example image\n",
    "dev_image_labels = np.empty((len(dev_data), 30))\n",
    "\n",
    "# iterate through each row and each example image's 30 target facial locations and covert to floats or NaNs\n",
    "for i in range(len(dev_data)):\n",
    "    for j in range(len(dev_data[i][0:30])):\n",
    "        if dev_data[i][j] == '':\n",
    "            dev_image_labels[i][j] = float('nan')\n",
    "        else: \n",
    "            dev_image_labels[i][j] = (float(dev_data[i][j]))"
   ]
  },
  {
   "cell_type": "code",
   "execution_count": 6,
   "metadata": {},
   "outputs": [
    {
     "name": "stdout",
     "output_type": "stream",
     "text": [
      "Features = 9216\n",
      "Train set = 5639\n",
      "Dev set = 1410\n"
     ]
    }
   ],
   "source": [
    "# characterizing data set\n",
    "numFeatures = train_image_data[1].size\n",
    "numClasses = 96\n",
    "numTrainExamples = train_image_data.shape[0]\n",
    "numDevExamples = dev_image_data.shape[0]\n",
    "print('Features = %d' %(numFeatures))\n",
    "print('Train set = %d' %(numTrainExamples))\n",
    "print('Dev set = %d' %(numDevExamples))"
   ]
  },
  {
   "cell_type": "markdown",
   "metadata": {},
   "source": [
    "#### Remove Rows with NaN Target Values"
   ]
  },
  {
   "cell_type": "code",
   "execution_count": 7,
   "metadata": {},
   "outputs": [],
   "source": [
    "# remove rows where 'left_eye_center_x' == NaN values from the training and label data\n",
    "non_NaN_list = np.invert((np.isnan(train_image_labels[:,0])))\n",
    "cln_train_image_data = train_image_data[non_NaN_list]\n",
    "cln_train_image_labels = train_image_labels[non_NaN_list]\n",
    "\n",
    "# remove rows where 'left_eye_center_x' == NaN values from the dev and dev_label data\n",
    "non_NaN_list = np.invert((np.isnan(dev_image_labels[:,0])))\n",
    "cln_dev_image_data = dev_image_data[non_NaN_list]\n",
    "cln_dev_image_labels = dev_image_labels[non_NaN_list]\n"
   ]
  },
  {
   "cell_type": "markdown",
   "metadata": {},
   "source": [
    "### Logistic Regression - Facial Recognition"
   ]
  },
  {
   "cell_type": "code",
   "execution_count": 8,
   "metadata": {},
   "outputs": [],
   "source": [
    "# (1) Parameters\n",
    "\n",
    "tf.reset_default_graph()\n",
    "\n",
    "# Constants\n",
    "devY = tf.one_hot(np.rint(cln_dev_image_labels[:,0]), numClasses)\n",
    "devX = tf.constant(cln_dev_image_data, dtype = tf.float32)\n",
    "\n",
    "# placeholders\n",
    "# In Tensorflow, placeholder are prepared to be filled with different python objects in the session.\n",
    "# Using these placeholder, we don't need to transform the python objects train_data and train_labels into \n",
    "# Tensorflow object. tf.placeholder does this for us.\n",
    "x_ = tf.placeholder(tf.float32, shape=[None, numFeatures], name='x')\n",
    "y_ = tf.placeholder(tf.int32, shape=[None], name='y')\n",
    "\n",
    "# and Variables\n",
    "w = tf.get_variable('w', shape=[numFeatures, numClasses])"
   ]
  },
  {
   "cell_type": "code",
   "execution_count": 9,
   "metadata": {},
   "outputs": [],
   "source": [
    "# (2) Model\n",
    "\n",
    "def model(input_layer):\n",
    "    output_layer = tf.nn.softmax(tf.matmul(input_layer, w))\n",
    "    return output_layer"
   ]
  },
  {
   "cell_type": "code",
   "execution_count": 10,
   "metadata": {},
   "outputs": [],
   "source": [
    "# (3) Cost\n",
    "\n",
    "def cost_func(data, labels):\n",
    "    cc = tf.losses.mean_squared_error(labels, model(data))\n",
    "    return  cc"
   ]
  },
  {
   "cell_type": "code",
   "execution_count": 23,
   "metadata": {
    "scrolled": false
   },
   "outputs": [
    {
     "name": "stdout",
     "output_type": "stream",
     "text": [
      "80) RMSE = 3.3753\n"
     ]
    },
    {
     "data": {
      "image/png": "[encoded data removed]",
      "text/plain": [
       "<matplotlib.figure.Figure at 0x7fe1888b7940>"
      ]
     },
     "metadata": {},
     "output_type": "display_data"
    }
   ],
   "source": [
    "# (4) Ojbective (and solver)\n",
    "y_one_hot = tf.one_hot(y_, numClasses)\n",
    "cc = cost_func(x_, y_one_hot)\n",
    "gd = tf.train.GradientDescentOptimizer(learning_rate=0.01)\n",
    "step = gd.minimize(cc)\n",
    "dev_preds = model(devX)\n",
    "\n",
    "miniBatchSize = 10;\n",
    "num_samples = train_image_data.shape[0]\n",
    "with tf.Session() as sess:\n",
    "    sess.run(tf.global_variables_initializer())\n",
    "    cost_vec = []\n",
    "    for i in range(80):\n",
    "        for start, end in zip(range(0, num_samples, miniBatchSize), range(miniBatchSize, num_samples, miniBatchSize)):\n",
    "            batch = cln_train_image_data[start:end], np.rint(cln_train_image_labels[:,0][start:end])\n",
    "            # If we run step in the session, we specify x_ and y_ by using fed_dict as argument\n",
    "            _, cost, dev__preds = sess.run([step, cc, dev_preds], feed_dict={x_: batch[0], y_: batch[1]})\n",
    "        cost_vec.append(cost)\n",
    "        clear_output(wait=True)\n",
    "        # determine predicted x-coordiate for 'left_eye_center_x', named y_hat to match RMSE formula in competition\n",
    "        y_hat = np.argmax(dev__preds, axis=1)\n",
    "        # y represents the original coordinate for left_eye_center_x'\n",
    "        y = cln_dev_image_labels[:,0]\n",
    "        n = len(y)\n",
    "        # root mean squared error\n",
    "        rmse = np.sqrt(np.sum((y - y_hat)**2)/float(n))\n",
    "        print('%d) RMSE = %.4f' %(i+1, rmse))\n",
    "    \n",
    "plt.plot(cost_vec)  \n",
    "plt.xlabel('Number of Gradient Descent steps')\n",
    "plt.ylabel('Cost function')\n",
    "plt.show()"
   ]
  },
  {
   "cell_type": "code",
   "execution_count": null,
   "metadata": {},
   "outputs": [],
   "source": []
  }
 ],
 "metadata": {
  "anaconda-cloud": {},
  "kernelspec": {
   "display_name": "Python 3",
   "language": "python",
   "name": "python3"
  },
  "language_info": {
   "codemirror_mode": {
    "name": "ipython",
    "version": 3
   },
   "file_extension": ".py",
   "mimetype": "text/x-python",
   "name": "python",
   "nbconvert_exporter": "python",
   "pygments_lexer": "ipython3",
   "version": "3.6.3"
  }
 },
 "nbformat": 4,
 "nbformat_minor": 1
}
