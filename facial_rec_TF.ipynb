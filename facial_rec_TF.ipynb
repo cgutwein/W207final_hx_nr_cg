{
 "cells": [
  {
   "cell_type": "code",
   "execution_count": 2,
   "metadata": {
    "collapsed": true
   },
   "outputs": [],
   "source": [
    "import tensorflow as tf\n",
    "import numpy as np\n",
    "import matplotlib.pyplot as plt\n",
    "from sklearn.datasets import fetch_mldata\n",
    "from IPython.display import display, clear_output \n",
    "from sklearn.metrics import classification_report\n",
    "from sklearn.neighbors import KNeighborsClassifier\n",
    "import time\n",
    "import csv\n",
    "%matplotlib inline"
   ]
  },
  {
   "cell_type": "markdown",
   "metadata": {},
   "source": [
    "### Import and Format Data"
   ]
  },
  {
   "cell_type": "code",
   "execution_count": 89,
   "metadata": {
    "collapsed": false
   },
   "outputs": [],
   "source": [
    "# import training.csv which contains a header row of face locations and 'image,' the column of lists of pixel values\n",
    "with open(\"training.csv\") as f:\n",
    "    train_import = list(csv.reader(f))\n",
    "\n",
    "# divide the rows 80% for training and 20% for development    \n",
    "train_portion = int(.8*(len(train_import)))\n",
    "dev_portion = len(train_import) - train_portion\n",
    "\n",
    "# extract training and development data\n",
    "train_data = train_import[1:train_portion]\n",
    "dev_data = train_import[-dev_portion:]\n",
    "\n",
    "# initialize the list of lists of pixel values \n",
    "train_image_data = []\n",
    "\n",
    "# convert each list of pixel values (1 per row) to integers (first split the string up then convert each elem to int)\n",
    "for row in range(len(train_data)):\n",
    "    train_image_data.append([int(i) for i in list(train_data[row][30].split())])\n",
    "    \n",
    "# initialize array of the 30 different facial location target values (labels) for each example image\n",
    "train_image_labels = np.empty((len(train_data), 30))\n",
    "\n",
    "# iterate through each row and each example image's 30 target facial locations and covert to floats or NaNs\n",
    "for i in range(len(train_data)):\n",
    "    for j in range(len(train_data[i][0:30])):\n",
    "        if train_data[i][j] == '':\n",
    "            train_image_labels[i][j] = float('nan')\n",
    "        else: \n",
    "            train_image_labels[i][j] = (float(train_data[i][j]))"
   ]
  },
  {
   "cell_type": "markdown",
   "metadata": {},
   "source": [
    "### Linear Regression - Facial Recognition"
   ]
  },
  {
   "cell_type": "code",
   "execution_count": 92,
   "metadata": {
    "collapsed": true
   },
   "outputs": [],
   "source": [
    "tf.reset_default_graph()\n",
    "trainX = tf.constant(train_image_data, dtype = tf.float32)\n",
    "# only attempting 1 out of 30 facial locations (column 0)\n",
    "trainY = tf.constant(train_image_labels[:][0], dtype = tf.float32)\n",
    "learningRate = tf.constant(0.1)\n",
    "# without initializer, variables are initializes with random values between -1 and 1.\n",
    "beta = tf.get_variable('beta', shape=[9216])\n",
    "\n",
    "def model(this_beta, x):\n",
    "    return tf.multiply(this_beta, x)\n",
    "\n",
    "def cost(this_beta):\n",
    "    return tf.reduce_mean((model(this_beta, trainX) - trainY)**2) / 2\n",
    "\n",
    "cc = cost(beta)\n",
    "\n",
    "## Gradient descent by tensorflow\n",
    "gd = tf.train.GradientDescentOptimizer(learningRate)\n",
    "step = gd.minimize(cost(beta))\n",
    "\n",
    "with tf.Session() as sess:\n",
    "    sess.run(tf.global_variables_initializer())\n",
    "    sess.run(tf.local_variables_initializer())\n",
    "    cost_vec = []\n",
    "    # By running step multiple times, we perform gradient descent for the variable beta. \n",
    "    # For each step, we can ouput the cost function.\n",
    "    for i in range(150):\n",
    "        _, cost = sess.run([step, cc])\n",
    "        cost_vec.append(cost)\n",
    "    plt.plot(cost_vec)\n",
    "    my_beta = sess.run([beta])[0]\n",
    "    print(my_beta)"
   ]
  }
 ],
 "metadata": {
  "anaconda-cloud": {},
  "kernelspec": {
   "display_name": "Python [default]",
   "language": "python",
   "name": "python3"
  },
  "language_info": {
   "codemirror_mode": {
    "name": "ipython",
    "version": 3
   },
   "file_extension": ".py",
   "mimetype": "text/x-python",
   "name": "python",
   "nbconvert_exporter": "python",
   "pygments_lexer": "ipython3",
   "version": "3.5.2"
  }
 },
 "nbformat": 4,
 "nbformat_minor": 1
}
