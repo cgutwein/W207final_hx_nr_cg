{
 "cells": [
  {
   "cell_type": "code",
   "execution_count": 14,
   "metadata": {
    "collapsed": true
   },
   "outputs": [],
   "source": [
    "import time\n",
    "import numpy as np\n",
    "import pandas as pd\n",
    "import seaborn as sb\n",
    "from IPython.display import display, clear_output \n",
    "from sklearn.metrics import classification_report, mean_squared_error\n",
    "from sklearn.neighbors import KNeighborsClassifier, KNeighborsRegressor\n",
    "\n",
    "import matplotlib.pyplot as plt\n",
    "%matplotlib inline\n",
    "plt.rcParams['figure.figsize'] = (12, 9)\n",
    "\n",
    "# set random seed to achieve same results each time\n",
    "np.random.seed(23)"
   ]
  },
  {
   "cell_type": "markdown",
   "metadata": {},
   "source": [
    "### Loading the Data"
   ]
  },
  {
   "cell_type": "code",
   "execution_count": 2,
   "metadata": {
    "collapsed": true,
    "scrolled": true
   },
   "outputs": [],
   "source": [
    "train_csv = pd.read_csv(\"training.csv\")\n",
    "test_csv = pd.read_csv(\"test.csv\")\n",
    "sample_csv = pd.read_csv(\"SampleSubmission.csv\")\n",
    "ID_csv = pd.read_csv(\"IdLookupTable.csv\")"
   ]
  },
  {
   "cell_type": "markdown",
   "metadata": {},
   "source": [
    "### Splitting Training Data into Labels and Data"
   ]
  },
  {
   "cell_type": "code",
   "execution_count": 3,
   "metadata": {
    "collapsed": true
   },
   "outputs": [],
   "source": [
    "def create_training(train_csv):\n",
    "    label_names = train_csv.columns.tolist()[:-1]\n",
    "    labels = train_csv.loc[:, train_csv.columns != 'Image'].values\n",
    "\n",
    "    data = train_csv['Image'].str.split()\n",
    "    data = np.vstack(data.apply(lambda row: np.asarray([int(n) for n in row])).values)\n",
    "    data = data/255.0 # Rescale grayscale values to [0,1].\n",
    "    \n",
    "    # Shuffle the data\n",
    "    shuffle = np.random.permutation(np.arange(data.shape[0]))\n",
    "    data, labels = data[shuffle], labels[shuffle]\n",
    "    \n",
    "    # Splitting into dev and training\n",
    "    dev_data, dev_labels = data[:1000], labels[:1000]\n",
    "    train_data, train_labels = data[1000:], labels[1000:]\n",
    "    \n",
    "    return dev_data, dev_labels, train_data, train_labels, label_names"
   ]
  },
  {
   "cell_type": "code",
   "execution_count": 4,
   "metadata": {
    "collapsed": true
   },
   "outputs": [],
   "source": [
    "dev_data, dev_labels, train_data, train_labels, label_names = create_training(train_csv)"
   ]
  },
  {
   "cell_type": "markdown",
   "metadata": {},
   "source": [
    "### Plotting an Example"
   ]
  },
  {
   "cell_type": "code",
   "execution_count": 5,
   "metadata": {},
   "outputs": [
    {
     "data": {
      "image/png": "[encoded data removed]",
      "text/plain": [
       "<matplotlib.figure.Figure at 0x114eeb1d0>"
      ]
     },
     "metadata": {},
     "output_type": "display_data"
    }
   ],
   "source": [
    "def plot_example(image_number):\n",
    "    plt.imshow(dev_data[image_number].reshape(96, 96), cmap='gray')\n",
    "    plt.axis('off')\n",
    "    plt.scatter(dev_labels[image_number][0], dev_labels[image_number][1], c='red', marker='o')\n",
    "    \n",
    "    plt.annotate('left eye center', xy         = (dev_labels[image_number][0], \n",
    "                                                  dev_labels[image_number][1]), \n",
    "                                    xytext     = (dev_labels[image_number][0]+5, \n",
    "                                                  dev_labels[image_number][1]+5),\n",
    "                                    arrowprops = {'facecolor': 'black', 'shrink': 0.05, \n",
    "                                                  'width':1.2, 'headwidth': 5})\n",
    "    return\n",
    "\n",
    "plot_example(5)"
   ]
  },
  {
   "cell_type": "markdown",
   "metadata": {},
   "source": [
    "### Simple Classifers"
   ]
  },
  {
   "cell_type": "markdown",
   "metadata": {},
   "source": [
    "We note that there are a ton of missing labels. Below is the percentage of labels for each Facial Keypoint in the training data set"
   ]
  },
  {
   "cell_type": "code",
   "execution_count": 6,
   "metadata": {
    "scrolled": true
   },
   "outputs": [
    {
     "data": {
      "text/plain": [
       "left_eye_center_x            0.999\n",
       "left_eye_center_y            0.999\n",
       "right_eye_center_x           0.998\n",
       "right_eye_center_y           0.998\n",
       "left_eye_inner_corner_x      0.322\n",
       "left_eye_inner_corner_y      0.322\n",
       "left_eye_outer_corner_x      0.322\n",
       "left_eye_outer_corner_y      0.322\n",
       "right_eye_inner_corner_x     0.322\n",
       "right_eye_inner_corner_y     0.322\n",
       "right_eye_outer_corner_x     0.322\n",
       "right_eye_outer_corner_y     0.322\n",
       "left_eyebrow_inner_end_x     0.322\n",
       "left_eyebrow_inner_end_y     0.322\n",
       "left_eyebrow_outer_end_x     0.316\n",
       "left_eyebrow_outer_end_y     0.316\n",
       "right_eyebrow_inner_end_x    0.322\n",
       "right_eyebrow_inner_end_y    0.322\n",
       "right_eyebrow_outer_end_x    0.317\n",
       "right_eyebrow_outer_end_y    0.317\n",
       "nose_tip_x                   1.000\n",
       "nose_tip_y                   1.000\n",
       "mouth_left_corner_x          0.322\n",
       "mouth_left_corner_y          0.322\n",
       "mouth_right_corner_x         0.322\n",
       "mouth_right_corner_y         0.322\n",
       "mouth_center_top_lip_x       0.323\n",
       "mouth_center_top_lip_y       0.323\n",
       "mouth_center_bottom_lip_x    0.995\n",
       "mouth_center_bottom_lip_y    0.995\n",
       "dtype: float64"
      ]
     },
     "execution_count": 6,
     "metadata": {},
     "output_type": "execute_result"
    }
   ],
   "source": [
    "(train_csv.loc[:, train_csv.columns != 'Image'].count()/len(train_csv.index)).round(3)"
   ]
  },
  {
   "cell_type": "markdown",
   "metadata": {},
   "source": [
    "We will attempt to fit simple classifers to the labels of the Facial Keypoints with the highest amount of non-missing labels: \n",
    "- left_eye_center \n",
    "- right_eye_center \n",
    "- nose_tip \n",
    "- mouth_center_bottom_lip"
   ]
  },
  {
   "cell_type": "markdown",
   "metadata": {},
   "source": [
    "#### Left Eye Center"
   ]
  },
  {
   "cell_type": "markdown",
   "metadata": {},
   "source": [
    "Let's examine some summary statistics of this feature"
   ]
  },
  {
   "cell_type": "code",
   "execution_count": 7,
   "metadata": {
    "collapsed": true
   },
   "outputs": [],
   "source": [
    "left_eye_center_x, left_eye_center_y = train_labels[:, 0], train_labels[:, 1]"
   ]
  },
  {
   "cell_type": "code",
   "execution_count": 8,
   "metadata": {
    "scrolled": false
   },
   "outputs": [
    {
     "data": {
      "text/plain": [
       "<matplotlib.legend.Legend at 0x1ee33e940>"
      ]
     },
     "execution_count": 8,
     "metadata": {},
     "output_type": "execute_result"
    },
    {
     "data": {
      "image/png": "[encoded data removed]",
      "text/plain": [
       "<matplotlib.figure.Figure at 0x1096472e8>"
      ]
     },
     "metadata": {},
     "output_type": "display_data"
    }
   ],
   "source": [
    "plt.hist(left_eye_center_x[np.isfinite(left_eye_center_x)], bins=np.arange(35, 95, 0.5), label = 'x coordinate');\n",
    "plt.hist(left_eye_center_y[np.isfinite(left_eye_center_y)], bins=np.arange(0, 85, 0.5),  label = 'y coordinate',\n",
    "         color='green');\n",
    "plt.title('Left Eye Center Coordinates', fontsize=12)\n",
    "plt.xlabel('X & Y Coordinate Values',    fontsize=12)\n",
    "plt.legend()"
   ]
  },
  {
   "cell_type": "markdown",
   "metadata": {},
   "source": [
    "#### x-cordinate of left eye"
   ]
  },
  {
   "cell_type": "markdown",
   "metadata": {},
   "source": [
    "Since our coordinate values of our labels are continuous, we will use K-NN Regression"
   ]
  },
  {
   "cell_type": "code",
   "execution_count": 42,
   "metadata": {
    "collapsed": true
   },
   "outputs": [],
   "source": [
    "k_nn_xcoord = KNeighborsRegressor(radius=1)"
   ]
  },
  {
   "cell_type": "code",
   "execution_count": 43,
   "metadata": {
    "scrolled": true
   },
   "outputs": [
    {
     "data": {
      "text/plain": [
       "KNeighborsRegressor(algorithm='auto', leaf_size=30, metric='minkowski',\n",
       "          metric_params=None, n_jobs=1, n_neighbors=5, p=2,\n",
       "          weights='uniform')"
      ]
     },
     "execution_count": 43,
     "metadata": {},
     "output_type": "execute_result"
    }
   ],
   "source": [
    "k_nn_xcoord.fit(train_data[np.isfinite(train_labels[:, 0])], \n",
    "                train_labels[:, 0][np.isfinite(train_labels[:, 0])])"
   ]
  },
  {
   "cell_type": "code",
   "execution_count": 12,
   "metadata": {},
   "outputs": [],
   "source": [
    "x_pred = k_nn_xcoord.predict(dev_data[np.isfinite(dev_labels[:, 0])])"
   ]
  },
  {
   "cell_type": "code",
   "execution_count": 23,
   "metadata": {},
   "outputs": [
    {
     "data": {
      "text/plain": [
       "3.0483511829725214"
      ]
     },
     "execution_count": 23,
     "metadata": {},
     "output_type": "execute_result"
    }
   ],
   "source": [
    "np.sqrt(mean_squared_error(dev_labels[:, 0][np.isfinite(dev_labels[:, 0])], \n",
    "                           x_pred))"
   ]
  },
  {
   "cell_type": "markdown",
   "metadata": {},
   "source": [
    "#### y-cordinate of left eye"
   ]
  },
  {
   "cell_type": "code",
   "execution_count": 44,
   "metadata": {
    "collapsed": true
   },
   "outputs": [],
   "source": [
    "k_nn_ycoord = KNeighborsRegressor(radius=1)"
   ]
  },
  {
   "cell_type": "code",
   "execution_count": 45,
   "metadata": {},
   "outputs": [
    {
     "data": {
      "text/plain": [
       "KNeighborsRegressor(algorithm='auto', leaf_size=30, metric='minkowski',\n",
       "          metric_params=None, n_jobs=1, n_neighbors=5, p=2,\n",
       "          weights='uniform')"
      ]
     },
     "execution_count": 45,
     "metadata": {},
     "output_type": "execute_result"
    }
   ],
   "source": [
    "k_nn_ycoord.fit(train_data[np.isfinite(train_labels[:, 1])], \n",
    "         train_labels[:, 1][np.isfinite(train_labels[:, 1])])"
   ]
  },
  {
   "cell_type": "code",
   "execution_count": 27,
   "metadata": {
    "collapsed": true
   },
   "outputs": [],
   "source": [
    "y_pred = k_nn_ycoord.predict(dev_data[np.isfinite(dev_labels[:, 1])])"
   ]
  },
  {
   "cell_type": "code",
   "execution_count": 28,
   "metadata": {},
   "outputs": [
    {
     "data": {
      "text/plain": [
       "3.0730939040764014"
      ]
     },
     "execution_count": 28,
     "metadata": {},
     "output_type": "execute_result"
    }
   ],
   "source": [
    "np.sqrt(mean_squared_error(dev_labels[:, 1][np.isfinite(dev_labels[:, 1])], \n",
    "                           y_pred))"
   ]
  },
  {
   "cell_type": "markdown",
   "metadata": {},
   "source": [
    "#### Visualizing Result"
   ]
  },
  {
   "cell_type": "code",
   "execution_count": 46,
   "metadata": {},
   "outputs": [],
   "source": [
    "x = k_nn_xcoord.predict(dev_data[0].reshape(1, -1))\n",
    "y = k_nn_ycoord.predict(dev_data[0].reshape(1, -1))"
   ]
  },
  {
   "cell_type": "code",
   "execution_count": 50,
   "metadata": {},
   "outputs": [
    {
     "data": {
      "text/plain": [
       "<matplotlib.legend.Legend at 0x17e6c39b0>"
      ]
     },
     "execution_count": 50,
     "metadata": {},
     "output_type": "execute_result"
    },
    {
     "data": {
      "image/png": "[encoded data removed]",
      "text/plain": [
       "<matplotlib.figure.Figure at 0x17e2027b8>"
      ]
     },
     "metadata": {},
     "output_type": "display_data"
    }
   ],
   "source": [
    "plt.imshow(dev_data[0].reshape(96,96), cmap='gray')\n",
    "plt.scatter(dev_labels[0,0], dev_labels[0,1], color='red', label='actual left eye center')\n",
    "plt.scatter(x, y, color='blue', label='predicted left eye center')\n",
    "plt.legend(loc='upper center', bbox_to_anchor=(0.5, -0.05),\n",
    "           fancybox=True,      shadow=True, ncol=2, fontsize=12)"
   ]
  },
  {
   "cell_type": "code",
   "execution_count": null,
   "metadata": {
    "collapsed": true
   },
   "outputs": [],
   "source": []
  }
 ],
 "metadata": {
  "anaconda-cloud": {},
  "kernelspec": {
   "display_name": "Python [conda root]",
   "language": "python",
   "name": "conda-root-py"
  },
  "language_info": {
   "codemirror_mode": {
    "name": "ipython",
    "version": 3
   },
   "file_extension": ".py",
   "mimetype": "text/x-python",
   "name": "python",
   "nbconvert_exporter": "python",
   "pygments_lexer": "ipython3",
   "version": "3.6.1"
  }
 },
 "nbformat": 4,
 "nbformat_minor": 1
}
