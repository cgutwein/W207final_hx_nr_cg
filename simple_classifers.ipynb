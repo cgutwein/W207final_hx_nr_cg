{
 "cells": [
  {
   "cell_type": "code",
   "execution_count": 1,
   "metadata": {
    "collapsed": true
   },
   "outputs": [],
   "source": [
    "import time\n",
    "import numpy as np\n",
    "import pandas as pd\n",
    "import seaborn as sb\n",
    "from IPython.display import display, clear_output \n",
    "from sklearn.metrics import classification_report, mean_squared_error\n",
    "from sklearn.neighbors import KNeighborsClassifier, KNeighborsRegressor\n",
    "\n",
    "import matplotlib.pyplot as plt\n",
    "%matplotlib inline\n",
    "plt.rcParams['figure.figsize'] = (12, 9)\n",
    "\n",
    "# set random seed to achieve same results each time\n",
    "np.random.seed(23)"
   ]
  },
  {
   "cell_type": "markdown",
   "metadata": {},
   "source": [
    "### Loading the Data"
   ]
  },
  {
   "cell_type": "code",
   "execution_count": null,
   "metadata": {
    "collapsed": true,
    "scrolled": true
   },
   "outputs": [],
   "source": [
    "train_csv = pd.read_csv(\"training.csv\")\n",
    "test_csv = pd.read_csv(\"test.csv\")\n",
    "sample_csv = pd.read_csv(\"SampleSubmission.csv\")\n",
    "ID_csv = pd.read_csv(\"IdLookupTable.csv\")"
   ]
  },
  {
   "cell_type": "markdown",
   "metadata": {},
   "source": [
    "### Splitting Training Data into Labels and Data"
   ]
  },
  {
   "cell_type": "code",
   "execution_count": null,
   "metadata": {
    "collapsed": true
   },
   "outputs": [],
   "source": [
    "def create_training(train_csv):\n",
    "    label_names = train_csv.columns.tolist()[:-1]\n",
    "    labels = train_csv.loc[:, train_csv.columns != 'Image'].values\n",
    "\n",
    "    data = train_csv['Image'].str.split()\n",
    "    data = np.vstack(data.apply(lambda row: np.asarray([int(n) for n in row])).values)\n",
    "    data = data/255.0 # Rescale grayscale values to [0,1].\n",
    "    \n",
    "    # Shuffle the data\n",
    "    shuffle = np.random.permutation(np.arange(data.shape[0]))\n",
    "    data, labels = data[shuffle], labels[shuffle]\n",
    "    \n",
    "    # Splitting into dev and training\n",
    "    dev_data, dev_labels = data[:1000], labels[:1000]\n",
    "    train_data, train_labels = data[1000:], labels[1000:]\n",
    "    \n",
    "    return dev_data, dev_labels, train_data, train_labels, label_names"
   ]
  },
  {
   "cell_type": "code",
   "execution_count": null,
   "metadata": {
    "collapsed": true
   },
   "outputs": [],
   "source": [
    "dev_data, dev_labels, train_data, train_labels, label_names = create_training(train_csv)"
   ]
  },
  {
   "cell_type": "markdown",
   "metadata": {},
   "source": [
    "### Plotting an Example"
   ]
  },
  {
   "cell_type": "code",
   "execution_count": null,
   "metadata": {},
   "outputs": [],
   "source": [
    "def plot_example(image_number):\n",
    "    plt.imshow(dev_data[image_number].reshape(96, 96), cmap='gray')\n",
    "    plt.axis('off')\n",
    "    plt.scatter(dev_labels[image_number][0], dev_labels[image_number][1], c='red', marker='o')\n",
    "    \n",
    "    plt.annotate('left eye center', xy         = (dev_labels[image_number][0], \n",
    "                                                  dev_labels[image_number][1]), \n",
    "                                    xytext     = (dev_labels[image_number][0]+5, \n",
    "                                                  dev_labels[image_number][1]+5),\n",
    "                                    arrowprops = {'facecolor': 'black', 'shrink': 0.05, \n",
    "                                                  'width':1.2, 'headwidth': 5})\n",
    "    return\n",
    "\n",
    "plot_example(5)"
   ]
  },
  {
   "cell_type": "markdown",
   "metadata": {},
   "source": [
    "### Simple Classifers"
   ]
  },
  {
   "cell_type": "markdown",
   "metadata": {},
   "source": [
    "We note that there are a ton of missing labels. Below is the percentage of labels for each Facial Keypoint in the training data set"
   ]
  },
  {
   "cell_type": "code",
   "execution_count": null,
   "metadata": {
    "scrolled": false
   },
   "outputs": [],
   "source": [
    "(train_csv.loc[:, train_csv.columns != 'Image'].count()/len(train_csv.index)).round(3)"
   ]
  },
  {
   "cell_type": "markdown",
   "metadata": {},
   "source": [
    "We will attempt to fit simple classifers to the labels of the Facial Keypoints with the highest amount of non-missing labels: \n",
    "- left_eye_center \n",
    "- right_eye_center \n",
    "- nose_tip \n",
    "- mouth_center_bottom_lip"
   ]
  },
  {
   "cell_type": "markdown",
   "metadata": {},
   "source": [
    "#### Left Eye Center"
   ]
  },
  {
   "cell_type": "markdown",
   "metadata": {},
   "source": [
    "Let's examine some summary statistics of this feature"
   ]
  },
  {
   "cell_type": "code",
   "execution_count": null,
   "metadata": {
    "collapsed": true
   },
   "outputs": [],
   "source": [
    "left_eye_center_x, left_eye_center_y = train_labels[:, 0], train_labels[:, 1]"
   ]
  },
  {
   "cell_type": "code",
   "execution_count": null,
   "metadata": {
    "scrolled": false
   },
   "outputs": [],
   "source": [
    "plt.hist(left_eye_center_x[np.isfinite(left_eye_center_x)], bins=np.arange(35, 95, 0.5), label = 'x coordinate');\n",
    "plt.hist(left_eye_center_y[np.isfinite(left_eye_center_y)], bins=np.arange(0, 85, 0.5),  label = 'y coordinate',\n",
    "         color='green');\n",
    "plt.title('Left Eye Center Coordinates', fontsize=12)\n",
    "plt.xlabel('X & Y Coordinate Values',    fontsize=12)\n",
    "plt.legend()"
   ]
  },
  {
   "cell_type": "markdown",
   "metadata": {},
   "source": [
    "#### x-cordinate of left eye"
   ]
  },
  {
   "cell_type": "markdown",
   "metadata": {},
   "source": [
    "Since our coordinate values of our labels are continuous, we will use K-NN Regression"
   ]
  },
  {
   "cell_type": "code",
   "execution_count": null,
   "metadata": {
    "collapsed": true
   },
   "outputs": [],
   "source": [
    "k_nn_xcoord = KNeighborsRegressor(radius=1)"
   ]
  },
  {
   "cell_type": "code",
   "execution_count": null,
   "metadata": {
    "scrolled": true
   },
   "outputs": [],
   "source": [
    "k_nn_xcoord.fit(train_data[np.isfinite(train_labels[:, 0])], \n",
    "                train_labels[:, 0][np.isfinite(train_labels[:, 0])])"
   ]
  },
  {
   "cell_type": "code",
   "execution_count": null,
   "metadata": {
    "collapsed": true
   },
   "outputs": [],
   "source": [
    "x_pred = k_nn_xcoord.predict(dev_data[np.isfinite(dev_labels[:, 0])])"
   ]
  },
  {
   "cell_type": "code",
   "execution_count": null,
   "metadata": {},
   "outputs": [],
   "source": [
    "np.sqrt(mean_squared_error(dev_labels[:, 0][np.isfinite(dev_labels[:, 0])], \n",
    "                           x_pred))"
   ]
  },
  {
   "cell_type": "markdown",
   "metadata": {},
   "source": [
    "#### y-cordinate of left eye"
   ]
  },
  {
   "cell_type": "code",
   "execution_count": null,
   "metadata": {
    "collapsed": true
   },
   "outputs": [],
   "source": [
    "k_nn_ycoord = KNeighborsRegressor(radius=1)"
   ]
  },
  {
   "cell_type": "code",
   "execution_count": null,
   "metadata": {},
   "outputs": [],
   "source": [
    "k_nn_ycoord.fit(train_data[np.isfinite(train_labels[:, 1])], \n",
    "         train_labels[:, 1][np.isfinite(train_labels[:, 1])])"
   ]
  },
  {
   "cell_type": "code",
   "execution_count": null,
   "metadata": {
    "collapsed": true
   },
   "outputs": [],
   "source": [
    "y_pred = k_nn_ycoord.predict(dev_data[np.isfinite(dev_labels[:, 1])])"
   ]
  },
  {
   "cell_type": "code",
   "execution_count": null,
   "metadata": {},
   "outputs": [],
   "source": [
    "np.sqrt(mean_squared_error(dev_labels[:, 1][np.isfinite(dev_labels[:, 1])], \n",
    "                           y_pred))"
   ]
  },
  {
   "cell_type": "markdown",
   "metadata": {},
   "source": [
    "#### Visualizing Result"
   ]
  },
  {
   "cell_type": "code",
   "execution_count": null,
   "metadata": {
    "collapsed": true
   },
   "outputs": [],
   "source": [
    "x = k_nn_xcoord.predict(dev_data[0].reshape(1, -1))\n",
    "y = k_nn_ycoord.predict(dev_data[0].reshape(1, -1))"
   ]
  },
  {
   "cell_type": "code",
   "execution_count": null,
   "metadata": {},
   "outputs": [],
   "source": [
    "plt.figure()\n",
    "\n",
    "for n in range(1, 3):\n",
    "    plt.subplot(1, 3, n)\n",
    "    plt.imshow(dev_data[n].reshape(96, 96), cmap='gray')\n",
    "    plt.scatter(dev_labels[n,0], dev_labels[n,1], color='red', label='actual left eye center')\n",
    "    plt.scatter(x, y, color='blue', label='predicted left eye center')\n",
    "# plt.legend(loc='upper center', bbox_to_anchor=(0.5, -0.05),\n",
    "#            fancybox=True,      shadow=True, ncol=2, fontsize=12)\n",
    "\n",
    "# plt.subplot(1, 3, 2)\n",
    "# plt.imshow(dev_data[1].reshape(96, 96), cmap='gray')\n",
    "# plt.scatter(dev_labels[1,0], dev_labels[1,1], color='red', label='actual left eye center')\n",
    "# plt.scatter(x, y, color='blue', label='predicted left eye center')\n",
    "# # plt.legend(loc='upper center', bbox_to_anchor=(0.5, -0.05),\n",
    "# #            fancybox=True,      shadow=True, ncol=2, fontsize=12)\n",
    "\n",
    "# plt.subplot(1, 3, 3)\n",
    "# plt.imshow(dev_data[10].reshape(96, 96), cmap='gray')\n",
    "# plt.scatter(dev_labels[10,0], dev_labels[10,1], color='red', label='actual left eye center')\n",
    "# plt.scatter(x, y, color='blue', label='predicted left eye center')\n",
    "# # plt.legend(loc='upper center', bbox_to_anchor=(0.5, -0.05),\n",
    "# #            fancybox=True,      shadow=True, ncol=2, fontsize=12)\n",
    "\n",
    "plt.legend(bbox_to_anchor=(1.05, 0), loc='lower left', borderaxespad=0.)"
   ]
  },
  {
   "cell_type": "code",
   "execution_count": null,
   "metadata": {
    "collapsed": true
   },
   "outputs": [],
   "source": []
  }
 ],
 "metadata": {
  "anaconda-cloud": {},
  "kernelspec": {
   "display_name": "Python [conda root]",
   "language": "python",
   "name": "conda-root-py"
  },
  "language_info": {
   "codemirror_mode": {
    "name": "ipython",
    "version": 3
   },
   "file_extension": ".py",
   "mimetype": "text/x-python",
   "name": "python",
   "nbconvert_exporter": "python",
   "pygments_lexer": "ipython3",
   "version": "3.6.1"
  }
 },
 "nbformat": 4,
 "nbformat_minor": 1
}
