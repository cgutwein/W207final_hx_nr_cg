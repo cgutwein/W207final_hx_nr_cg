{
 "cells": [
  {
   "cell_type": "code",
   "execution_count": 76,
   "metadata": {
    "collapsed": true
   },
   "outputs": [],
   "source": [
    "import time\n",
    "import numpy as np\n",
    "import pandas as pd\n",
    "import seaborn as sb\n",
    "from IPython.display import display, clear_output \n",
    "from sklearn.metrics import classification_report\n",
    "from sklearn.neighbors import KNeighborsClassifier\n",
    "\n",
    "import matplotlib.pyplot as plt\n",
    "%matplotlib inline\n",
    "plt.rcParams['figure.figsize'] = (12, 9)"
   ]
  },
  {
   "cell_type": "markdown",
   "metadata": {},
   "source": [
    "### Loading the Data"
   ]
  },
  {
   "cell_type": "code",
   "execution_count": 2,
   "metadata": {
    "scrolled": true
   },
   "outputs": [],
   "source": [
    "train = pd.read_csv(\"training.csv\")\n",
    "test = pd.read_csv(\"test.csv\")\n",
    "sample = pd.read_csv(\"SampleSubmission.csv\")\n",
    "ID = pd.read_csv(\"IdLookupTable.csv\")"
   ]
  },
  {
   "cell_type": "markdown",
   "metadata": {},
   "source": [
    "### Splitting Training Data into Labels and Data"
   ]
  },
  {
   "cell_type": "code",
   "execution_count": 73,
   "metadata": {
    "collapsed": true
   },
   "outputs": [],
   "source": [
    "def create_training(train_csv):\n",
    "    label_names = train_csv.columns.tolist()[:-1]\n",
    "    labels = train_csv.loc[:, train_csv.columns != 'Image'].values\n",
    "\n",
    "    data = train_csv['Image'].str.split()\n",
    "    data = data.apply(lambda row: np.asarray([int(n) for n in row])).values\n",
    "    data = data/255.0 # Rescale grayscale values to [0,1].\n",
    "    \n",
    "    # Shuffle the data\n",
    "    shuffle = np.random.permutation(np.arange(data.shape[0]))\n",
    "    data, labels = data[shuffle], labels[shuffle]\n",
    "    \n",
    "    # Splitting into dev and training\n",
    "    dev_data, dev_labels = data[:1000], labels[:1000]\n",
    "    train_data, train_labels = data[1000:], labels[1000:]\n",
    "    \n",
    "    return dev_data, dev_labels, train_data, train_labels, label_names"
   ]
  },
  {
   "cell_type": "code",
   "execution_count": 74,
   "metadata": {},
   "outputs": [],
   "source": [
    "dev_data, dev_labels, train_data, train_labels, label_names = create_training(train)"
   ]
  },
  {
   "cell_type": "markdown",
   "metadata": {},
   "source": [
    "### Plotting an Example"
   ]
  },
  {
   "cell_type": "code",
   "execution_count": 127,
   "metadata": {},
   "outputs": [
    {
     "data": {
      "image/png": "[encoded data removed]",
      "text/plain": [
       "<matplotlib.figure.Figure at 0x310b87d30>"
      ]
     },
     "metadata": {},
     "output_type": "display_data"
    }
   ],
   "source": [
    "def plot_example(image_number):\n",
    "    plt.imshow(dev_data[image_number].reshape(96, 96), cmap='gray')\n",
    "    plt.axis('off')\n",
    "    plt.scatter(dev_labels[image_number][0], dev_labels[image_number][1], c='red', marker='o')\n",
    "    plt.annotate('left eye center', xy         =(dev_labels[image_number][0], dev_labels[image_number][1]), \n",
    "                                    xytext     =(dev_labels[image_number][0]+5, dev_labels[image_number][1]+5),\n",
    "                                    arrowprops ={'facecolor': 'black', 'shrink': 0.05, 'width':1.2, 'headwidth': 5})\n",
    "    return\n",
    "\n",
    "plot_example(5)"
   ]
  },
  {
   "cell_type": "code",
   "execution_count": null,
   "metadata": {
    "collapsed": true
   },
   "outputs": [],
   "source": [
    "neigh = KNeighborsClassifier(n_neighbors=5)"
   ]
  },
  {
   "cell_type": "code",
   "execution_count": null,
   "metadata": {
    "collapsed": true
   },
   "outputs": [],
   "source": [
    "## Now we format training labels\n",
    "##\n",
    "## 30 labels total\n",
    "## we want them to be in order of submittal file\n",
    "##\n",
    "## Creating a matrix of n_samples (7049) X n_labels (30)\n",
    "Y = np.zeros((7049,30))\n",
    "labels = train.columns.tolist()[0:30] ## should give us the column labels\n",
    "\n",
    "for i in range(7049):\n",
    "    for idx, col in enumerate(labels):\n",
    "        Y[i][idx] = train[col][i]\n",
    "\n",
    "#print(Y[4][29] == train['mouth_center_bottom_lip_y'][4])"
   ]
  },
  {
   "cell_type": "code",
   "execution_count": null,
   "metadata": {},
   "outputs": [],
   "source": [
    "print(train.columns.tolist()[0:30])\n",
    "print(type(Y))\n",
    "print(Y.shape)"
   ]
  },
  {
   "cell_type": "code",
   "execution_count": null,
   "metadata": {
    "collapsed": true
   },
   "outputs": [],
   "source": [
    "from sklearn.neural_network import MLPClassifier"
   ]
  },
  {
   "cell_type": "code",
   "execution_count": null,
   "metadata": {},
   "outputs": [],
   "source": [
    "## splitting training data\n",
    "x_sub_train = X[:4000]\n",
    "x_sub_dev = X[4000:]\n",
    "y_sub_train = Y[:4000]\n",
    "y_sub_dev = Y[4000:]\n",
    "\n",
    "mod_baseline = MLPClassifier()\n",
    "mod_baseline.fit(x_sub_train, y_sub_train)"
   ]
  },
  {
   "cell_type": "code",
   "execution_count": null,
   "metadata": {
    "collapsed": true
   },
   "outputs": [],
   "source": []
  }
 ],
 "metadata": {
  "anaconda-cloud": {},
  "kernelspec": {
   "display_name": "Python [conda root]",
   "language": "python",
   "name": "conda-root-py"
  },
  "language_info": {
   "codemirror_mode": {
    "name": "ipython",
    "version": 3
   },
   "file_extension": ".py",
   "mimetype": "text/x-python",
   "name": "python",
   "nbconvert_exporter": "python",
   "pygments_lexer": "ipython3",
   "version": "3.6.1"
  }
 },
 "nbformat": 4,
 "nbformat_minor": 1
}
