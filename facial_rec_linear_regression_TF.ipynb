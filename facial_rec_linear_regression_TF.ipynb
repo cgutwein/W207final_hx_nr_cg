{
 "cells": [
  {
   "cell_type": "code",
   "execution_count": 205,
   "metadata": {},
   "outputs": [],
   "source": [
    "import tensorflow as tf\n",
    "import numpy as np\n",
    "import matplotlib.pyplot as plt\n",
    "from sklearn.datasets import fetch_mldata\n",
    "from IPython.display import display, clear_output \n",
    "from sklearn.metrics import classification_report\n",
    "from sklearn.neighbors import KNeighborsClassifier\n",
    "import time\n",
    "import csv\n",
    "%matplotlib inline"
   ]
  },
  {
   "cell_type": "markdown",
   "metadata": {},
   "source": [
    "### Import and Format Data"
   ]
  },
  {
   "cell_type": "code",
   "execution_count": 206,
   "metadata": {},
   "outputs": [],
   "source": [
    "# import training.csv which contains a header row of face locations and 'image,' the column of lists of pixel values\n",
    "with open(\"training.csv\") as f:\n",
    "    train_import = list(csv.reader(f))\n",
    "\n",
    "# shuffle the data    \n",
    "removed_header = train_import[1:]\n",
    "shuffle = np.random.permutation(np.arange(len(removed_header)))\n",
    "shuffled_train_import = [removed_header[i] for i in shuffle]\n",
    "    \n",
    "# divide the rows 80% for training and 20% for development    \n",
    "train_portion = int(.8*(len(shuffled_train_import)))\n",
    "dev_portion = len(shuffled_train_import) - train_portion\n",
    "\n",
    "# extract training and development data\n",
    "train_data = shuffled_train_import[:train_portion]\n",
    "dev_data = shuffled_train_import[-dev_portion:]\n",
    "\n",
    "# initialize the list of lists of pixel values \n",
    "train_image_data = []\n",
    "\n",
    "# convert each list of pixel values (1 per row) to integers (first split the string up then convert each elem to int)\n",
    "for row in range(len(train_data)):\n",
    "    train_image_data.append([int(i) for i in list(train_data[row][30].split())])\n",
    "# convert to a numpy array\n",
    "train_image_data = np.array(train_image_data)\n",
    "\n",
    "# convert range of 0 to 255 for pixel values to 0 to 1 (0 = white, 1 = black)\n",
    "train_image_data = train_image_data/255.0\n",
    "    \n",
    "# initialize array of the 30 different facial location target values (labels) for each example image\n",
    "train_image_labels = np.empty((len(train_data), 30))\n",
    "\n",
    "# iterate through each row and each example image's 30 target facial locations and covert to floats or NaNs\n",
    "for i in range(len(train_data)):\n",
    "    for j in range(len(train_data[i][0:30])):\n",
    "        if train_data[i][j] == '':\n",
    "            train_image_labels[i][j] = float('nan')\n",
    "        else: \n",
    "            train_image_labels[i][j] = (float(train_data[i][j]))"
   ]
  },
  {
   "cell_type": "markdown",
   "metadata": {},
   "source": [
    "#### Remove Rows with NaN Target Values"
   ]
  },
  {
   "cell_type": "code",
   "execution_count": 207,
   "metadata": {},
   "outputs": [],
   "source": [
    "# remove rows where 'left_eye_center_x' == NaN values from the training and label data\n",
    "non_NaN_list = np.invert((np.isnan(train_image_labels[:,0])))\n",
    "cln_train_image_data = train_image_data[non_NaN_list]\n",
    "cln_train_image_labels = train_image_labels[non_NaN_list]\n",
    "\n",
    "\n"
   ]
  },
  {
   "cell_type": "markdown",
   "metadata": {},
   "source": [
    "### Linear Regression - Facial Recognition"
   ]
  },
  {
   "cell_type": "code",
   "execution_count": 208,
   "metadata": {},
   "outputs": [
    {
     "data": {
      "image/png": "[encoded data removed]",
      "text/plain": [
       "<matplotlib.figure.Figure at 0x7fae03e51080>"
      ]
     },
     "metadata": {},
     "output_type": "display_data"
    }
   ],
   "source": [
    "tf.reset_default_graph()\n",
    "trainX = tf.constant(cln_train_image_data, dtype = tf.float32)\n",
    "# only attempting 1 out of 30 facial locations (column 0), 'left_eye_center_x'\n",
    "trainY = tf.constant(cln_train_image_labels[:,0], dtype = tf.float32)\n",
    "learningRate = tf.constant(0.0001)\n",
    "# create beta variable (vector of 9216 beta values: 1 for each pixel)\n",
    "beta = tf.get_variable('beta', initializer=np.zeros((9216,1), dtype = np.float32))\n",
    "\n",
    "def model(this_beta, x):\n",
    "    return tf.matmul(x, this_beta)\n",
    "\n",
    "def cost(this_beta):\n",
    "    ans = tf.reduce_mean((model(this_beta, trainX) - trainY)**2) / 2\n",
    "    return ans\n",
    "\n",
    "cc = cost(beta)\n",
    "\n",
    "## Gradient descent by tensorflow\n",
    "gd = tf.train.GradientDescentOptimizer(learningRate)\n",
    "step = gd.minimize(cost(beta))\n",
    "\n",
    "with tf.Session() as sess:\n",
    "    sess.run(tf.global_variables_initializer())\n",
    "    sess.run(tf.local_variables_initializer())\n",
    "    cost_vec = []\n",
    "    # By running step multiple times, we perform gradient descent for the variable beta. \n",
    "    # For each step, we can ouput the cost function.\n",
    "    for i in range(500):\n",
    "        _, cost = sess.run([step, cc])\n",
    "        cost_vec.append(cost)\n",
    "        my_beta = sess.run([beta])[0]\n",
    "    plt.plot(cost_vec)\n"
   ]
  },
  {
   "cell_type": "markdown",
   "metadata": {},
   "source": [
    "### Test the Betas with the Development Data"
   ]
  },
  {
   "cell_type": "code",
   "execution_count": 209,
   "metadata": {},
   "outputs": [],
   "source": [
    "'''REPEATING SAME TREATMENT OF DATA THAT WAS DONE TO THE TRAINING PORTION'''\n",
    "# initialize the development list of lists of pixel values \n",
    "dev_image_data = []\n",
    "\n",
    "# convert each list of pixel values (1 per row) to integers (first split the string up then convert each elem to int)\n",
    "for row in range(len(dev_data)):\n",
    "    dev_image_data.append([int(i) for i in list(dev_data[row][30].split())])\n",
    "# convert to a numpy array\n",
    "dev_image_data = np.array(dev_image_data)\n",
    "\n",
    "# convert range of 0 to 255 for pixel values to 0 to 1 (0 = white, 1 = black)\n",
    "dev_image_data = dev_image_data/255.0\n",
    "\n",
    "# initialize array of the 30 different facial location target values (labels) for each example image\n",
    "dev_image_labels = np.empty((len(dev_data), 30))\n",
    "\n",
    "# iterate through each row and each example image's 30 target facial locations and covert to floats or NaNs\n",
    "for i in range(len(dev_data)):\n",
    "    for j in range(len(dev_data[i][0:30])):\n",
    "        if dev_data[i][j] == '':\n",
    "            dev_image_labels[i][j] = float('nan')\n",
    "        else: \n",
    "            dev_image_labels[i][j] = (float(dev_data[i][j]))"
   ]
  },
  {
   "cell_type": "markdown",
   "metadata": {},
   "source": [
    "#### Remove Rows with NaN Target Values"
   ]
  },
  {
   "cell_type": "code",
   "execution_count": 210,
   "metadata": {},
   "outputs": [],
   "source": [
    "# remove rows where 'left_eye_center_x' == NaN values from the dev and dev_label data\n",
    "non_NaN_list = np.invert((np.isnan(dev_image_labels[:,0])))\n",
    "cln_dev_image_data = dev_image_data[non_NaN_list]\n",
    "cln_dev_image_labels = dev_image_labels[non_NaN_list]"
   ]
  },
  {
   "cell_type": "markdown",
   "metadata": {},
   "source": [
    "### Calculate RMSE from Development Data"
   ]
  },
  {
   "cell_type": "code",
   "execution_count": 211,
   "metadata": {},
   "outputs": [
    {
     "name": "stdout",
     "output_type": "stream",
     "text": [
      "14.8318886191\n"
     ]
    }
   ],
   "source": [
    "# determine predicted x-coordiate for 'left_eye_center_x', named y_hat to match RMSE formula in Kaggle competition\n",
    "y_hat = np.matmul(cln_dev_image_data, my_beta)\n",
    "\n",
    "# y represents the original coordinate for left_eye_center_x'\n",
    "y = cln_dev_image_labels[:,0]\n",
    "\n",
    "n = len(y)\n",
    "\n",
    "# root mean squared error\n",
    "rmse = np.sqrt(np.sum((y[0] - y_hat)**2)/float(n))\n",
    "\n",
    "print(rmse)"
   ]
  }
 ],
 "metadata": {
  "anaconda-cloud": {},
  "kernelspec": {
   "display_name": "Python 3",
   "language": "python",
   "name": "python3"
  },
  "language_info": {
   "codemirror_mode": {
    "name": "ipython",
    "version": 3
   },
   "file_extension": ".py",
   "mimetype": "text/x-python",
   "name": "python",
   "nbconvert_exporter": "python",
   "pygments_lexer": "ipython3",
   "version": "3.6.3"
  }
 },
 "nbformat": 4,
 "nbformat_minor": 1
}
