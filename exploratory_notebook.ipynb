{
 "cells": [
  {
   "cell_type": "code",
   "execution_count": 1,
   "metadata": {
    "collapsed": true
   },
   "outputs": [],
   "source": [
    "import numpy as np\n",
    "import pandas as pd\n",
    "import matplotlib.pyplot as plt\n",
    "from sklearn.datasets import fetch_mldata\n",
    "from IPython.display import display, clear_output \n",
    "from sklearn.metrics import classification_report\n",
    "from sklearn.neighbors import KNeighborsClassifier\n",
    "import time\n",
    "%matplotlib inline"
   ]
  },
  {
   "cell_type": "code",
   "execution_count": 3,
   "metadata": {},
   "outputs": [],
   "source": [
    "train = pd.read_csv(\"../p_final/training.csv\")\n",
    "test = pd.read_csv(\"../p_final/test.csv\")\n",
    "sample = pd.read_csv(\"../p_final/SampleSubmission.csv\")\n",
    "ID = pd.read_csv(\"../p_final/IdLookupTable.csv\")"
   ]
  },
  {
   "cell_type": "code",
   "execution_count": 4,
   "metadata": {},
   "outputs": [
    {
     "name": "stdout",
     "output_type": "stream",
     "text": [
      "   left_eye_center_x  left_eye_center_y  right_eye_center_x  \\\n",
      "0          66.033564          39.002274           30.227008   \n",
      "1          64.332936          34.970077           29.949277   \n",
      "2          65.057053          34.909642           30.903789   \n",
      "3          65.225739          37.261774           32.023096   \n",
      "4          66.725301          39.621261           32.244810   \n",
      "\n",
      "   right_eye_center_y  left_eye_inner_corner_x  left_eye_inner_corner_y  \\\n",
      "0           36.421678                59.582075                39.647423   \n",
      "1           33.448715                58.856170                35.274349   \n",
      "2           34.909642                59.412000                36.320968   \n",
      "3           37.261774                60.003339                39.127179   \n",
      "4           38.042032                58.565890                39.621261   \n",
      "\n",
      "   left_eye_outer_corner_x  left_eye_outer_corner_y  right_eye_inner_corner_x  \\\n",
      "0                73.130346                39.969997                 36.356571   \n",
      "1                70.722723                36.187166                 36.034723   \n",
      "2                70.984421                36.320968                 37.678105   \n",
      "3                72.314713                38.380967                 37.618643   \n",
      "4                72.515926                39.884466                 36.982380   \n",
      "\n",
      "   right_eye_inner_corner_y  \\\n",
      "0                 37.389402   \n",
      "1                 34.361532   \n",
      "2                 36.320968   \n",
      "3                 38.754115   \n",
      "4                 39.094852   \n",
      "\n",
      "                         ...                          nose_tip_y  \\\n",
      "0                        ...                           57.066803   \n",
      "1                        ...                           55.660936   \n",
      "2                        ...                           53.538947   \n",
      "3                        ...                           54.166539   \n",
      "4                        ...                           64.889521   \n",
      "\n",
      "   mouth_left_corner_x  mouth_left_corner_y  mouth_right_corner_x  \\\n",
      "0            61.195308            79.970165             28.614496   \n",
      "1            56.421447            76.352000             35.122383   \n",
      "2            60.822947            73.014316             33.726316   \n",
      "3            65.598887            72.703722             37.245496   \n",
      "4            60.671411            77.523239             31.191755   \n",
      "\n",
      "   mouth_right_corner_y  mouth_center_top_lip_x  mouth_center_top_lip_y  \\\n",
      "0             77.388992               43.312602               72.935459   \n",
      "1             76.047660               46.684596               70.266553   \n",
      "2             72.732000               47.274947               70.191789   \n",
      "3             74.195478               50.303165               70.091687   \n",
      "4             76.997301               44.962748               73.707387   \n",
      "\n",
      "   mouth_center_bottom_lip_x  mouth_center_bottom_lip_y  \\\n",
      "0                  43.130707                  84.485774   \n",
      "1                  45.467915                  85.480170   \n",
      "2                  47.274947                  78.659368   \n",
      "3                  51.561183                  78.268383   \n",
      "4                  44.227141                  86.871166   \n",
      "\n",
      "                                               Image  \n",
      "0  238 236 237 238 240 240 239 241 241 243 240 23...  \n",
      "1  219 215 204 196 204 211 212 200 180 168 178 19...  \n",
      "2  144 142 159 180 188 188 184 180 167 132 84 59 ...  \n",
      "3  193 192 193 194 194 194 193 192 168 111 50 12 ...  \n",
      "4  147 148 160 196 215 214 216 217 219 220 206 18...  \n",
      "\n",
      "[5 rows x 31 columns]\n"
     ]
    }
   ],
   "source": [
    "print(train.head())"
   ]
  },
  {
   "cell_type": "code",
   "execution_count": 6,
   "metadata": {},
   "outputs": [
    {
     "name": "stdout",
     "output_type": "stream",
     "text": [
      "7049\n",
      "[219 215 204 ...,   1   1   1]\n",
      "9216\n",
      "96.0\n"
     ]
    }
   ],
   "source": [
    "train_data = train['Image']\n",
    "print(len(train_data))\n",
    "# print(train_data[0])\n",
    "train_data_samp = np.asarray([int(n) for n in train_data[1].split()])\n",
    "print(train_data_samp)\n",
    "test_data = test['Image']\n",
    "print(len(train_data_samp))\n",
    "print(len(train_data_samp) / 96)"
   ]
  },
  {
   "cell_type": "code",
   "execution_count": 7,
   "metadata": {},
   "outputs": [
    {
     "data": {
      "text/plain": [
       "<matplotlib.collections.PathCollection at 0x11311c0f0>"
      ]
     },
     "execution_count": 7,
     "metadata": {},
     "output_type": "execute_result"
    },
    {
     "data": {
      "image/png": "[encoded data removed]",
      "text/plain": [
       "<matplotlib.figure.Figure at 0x110d6a630>"
      ]
     },
     "metadata": {},
     "output_type": "display_data"
    }
   ],
   "source": [
    "## rescale training data to 0,1 scale\n",
    "train_data_samp = train_data_samp / 255.0\n",
    "\n",
    "plt.figure(figsize=(4,4))\n",
    "p = plt.subplot(1, 1, 1)\n",
    "\n",
    "img = train_data_samp.reshape(96,96)\n",
    "p.imshow(img, cmap='gray')\n",
    "p.scatter(train['left_eye_center_x'][1], train['left_eye_center_y'][1], c='red', marker='o')\n",
    "# p.annotate('left eye center', xy=(train['left_eye_center_x'][0], train['left_eye_center_y'][0]), \n",
    "#           xytext=(train['left_eye_center_x'][0] + 1, train['left_eye_center_y'][0] + 1),\n",
    "#            arrowprops=dict(facecolor='red', shrink=0.05),          )"
   ]
  },
  {
   "cell_type": "code",
   "execution_count": 8,
   "metadata": {},
   "outputs": [
    {
     "name": "stdout",
     "output_type": "stream",
     "text": [
      "   RowId  Location\n",
      "0      1         0\n",
      "1      2         0\n",
      "2      3         0\n",
      "3      4         0\n",
      "4      5         0\n"
     ]
    }
   ],
   "source": [
    "print(sample.head())"
   ]
  },
  {
   "cell_type": "code",
   "execution_count": 9,
   "metadata": {},
   "outputs": [
    {
     "name": "stdout",
     "output_type": "stream",
     "text": [
      "       RowId  ImageId                FeatureName  Location\n",
      "0          1        1          left_eye_center_x       NaN\n",
      "1          2        1          left_eye_center_y       NaN\n",
      "2          3        1         right_eye_center_x       NaN\n",
      "3          4        1         right_eye_center_y       NaN\n",
      "4          5        1    left_eye_inner_corner_x       NaN\n",
      "5          6        1    left_eye_inner_corner_y       NaN\n",
      "6          7        1    left_eye_outer_corner_x       NaN\n",
      "7          8        1    left_eye_outer_corner_y       NaN\n",
      "8          9        1   right_eye_inner_corner_x       NaN\n",
      "9         10        1   right_eye_inner_corner_y       NaN\n",
      "10        11        1   right_eye_outer_corner_x       NaN\n",
      "11        12        1   right_eye_outer_corner_y       NaN\n",
      "12        13        1   left_eyebrow_inner_end_x       NaN\n",
      "13        14        1   left_eyebrow_inner_end_y       NaN\n",
      "14        15        1   left_eyebrow_outer_end_x       NaN\n",
      "15        16        1   left_eyebrow_outer_end_y       NaN\n",
      "16        17        1  right_eyebrow_inner_end_x       NaN\n",
      "17        18        1  right_eyebrow_inner_end_y       NaN\n",
      "18        19        1  right_eyebrow_outer_end_x       NaN\n",
      "19        20        1  right_eyebrow_outer_end_y       NaN\n",
      "20        21        1                 nose_tip_x       NaN\n",
      "21        22        1                 nose_tip_y       NaN\n",
      "22        23        1        mouth_left_corner_x       NaN\n",
      "23        24        1        mouth_left_corner_y       NaN\n",
      "24        25        1       mouth_right_corner_x       NaN\n",
      "25        26        1       mouth_right_corner_y       NaN\n",
      "26        27        1     mouth_center_top_lip_x       NaN\n",
      "27        28        1     mouth_center_top_lip_y       NaN\n",
      "28        29        1  mouth_center_bottom_lip_x       NaN\n",
      "29        30        1  mouth_center_bottom_lip_y       NaN\n",
      "...      ...      ...                        ...       ...\n",
      "27094  27095     1780         right_eye_center_x       NaN\n",
      "27095  27096     1780         right_eye_center_y       NaN\n",
      "27096  27097     1780                 nose_tip_x       NaN\n",
      "27097  27098     1780                 nose_tip_y       NaN\n",
      "27098  27099     1780  mouth_center_bottom_lip_x       NaN\n",
      "27099  27100     1780  mouth_center_bottom_lip_y       NaN\n",
      "27100  27101     1781          left_eye_center_x       NaN\n",
      "27101  27102     1781          left_eye_center_y       NaN\n",
      "27102  27103     1781         right_eye_center_x       NaN\n",
      "27103  27104     1781         right_eye_center_y       NaN\n",
      "27104  27105     1781                 nose_tip_x       NaN\n",
      "27105  27106     1781                 nose_tip_y       NaN\n",
      "27106  27107     1781  mouth_center_bottom_lip_x       NaN\n",
      "27107  27108     1781  mouth_center_bottom_lip_y       NaN\n",
      "27108  27109     1782          left_eye_center_x       NaN\n",
      "27109  27110     1782          left_eye_center_y       NaN\n",
      "27110  27111     1782         right_eye_center_x       NaN\n",
      "27111  27112     1782         right_eye_center_y       NaN\n",
      "27112  27113     1782                 nose_tip_x       NaN\n",
      "27113  27114     1782                 nose_tip_y       NaN\n",
      "27114  27115     1782  mouth_center_bottom_lip_x       NaN\n",
      "27115  27116     1782  mouth_center_bottom_lip_y       NaN\n",
      "27116  27117     1783          left_eye_center_x       NaN\n",
      "27117  27118     1783          left_eye_center_y       NaN\n",
      "27118  27119     1783         right_eye_center_x       NaN\n",
      "27119  27120     1783         right_eye_center_y       NaN\n",
      "27120  27121     1783                 nose_tip_x       NaN\n",
      "27121  27122     1783                 nose_tip_y       NaN\n",
      "27122  27123     1783  mouth_center_bottom_lip_x       NaN\n",
      "27123  27124     1783  mouth_center_bottom_lip_y       NaN\n",
      "\n",
      "[27124 rows x 4 columns]\n"
     ]
    }
   ],
   "source": [
    "print(ID)"
   ]
  },
  {
   "cell_type": "code",
   "execution_count": 42,
   "metadata": {},
   "outputs": [],
   "source": [
    "# initiate lists for submission file\n",
    "list_row_IDs = []\n",
    "list_location = []\n",
    "# create an average value for the initial guess of the location of each facial feature\n",
    "average_guess = (len(train_data_samp) / 96)/2\n",
    "# store row ID and average guess to each\n",
    "for i in range(len(ID)):\n",
    "    list_row_IDs.append(ID['RowId'][i])\n",
    "    list_location.append(average_guess)\n",
    "\n",
    "# create a pandas dataframe for the initial file submission\n",
    "data = {'RowId': list_row_IDs, 'Location': list_location}\n",
    "initial_submission = pd.DataFrame(data = data, columns = ['RowId', 'Location'])\n",
    "\n",
    "initial_submission.to_csv('initial_submission.csv', index=False)"
   ]
  },
  {
   "cell_type": "code",
   "execution_count": 11,
   "metadata": {},
   "outputs": [
    {
     "name": "stdout",
     "output_type": "stream",
     "text": [
      "<class 'pandas.core.series.Series'>\n"
     ]
    },
    {
     "name": "stderr",
     "output_type": "stream",
     "text": [
      "/Users/Gutwein/anaconda/lib/python3.6/site-packages/ipykernel_launcher.py:5: SettingWithCopyWarning: \n",
      "A value is trying to be set on a copy of a slice from a DataFrame\n",
      "\n",
      "See the caveats in the documentation: http://pandas.pydata.org/pandas-docs/stable/indexing.html#indexing-view-versus-copy\n",
      "  \"\"\"\n"
     ]
    }
   ],
   "source": [
    "## Formatting Training Data (i.e. images)\n",
    "print(type(train_data))\n",
    "X = train_data\n",
    "for i in range(len(X)):\n",
    "    X[i] = np.asarray([int(n) for n in X[i].split()])"
   ]
  },
  {
   "cell_type": "code",
   "execution_count": 15,
   "metadata": {},
   "outputs": [
    {
     "data": {
      "text/plain": [
       "0       [0.933333333333, 0.925490196078, 0.92941176470...\n",
       "1       [0.858823529412, 0.843137254902, 0.8, 0.768627...\n",
       "2       [0.564705882353, 0.556862745098, 0.62352941176...\n",
       "3       [0.756862745098, 0.752941176471, 0.75686274509...\n",
       "4       [0.576470588235, 0.580392156863, 0.62745098039...\n",
       "5       [0.654901960784, 0.662745098039, 0.66666666666...\n",
       "6       [0.427450980392, 0.427450980392, 0.49019607843...\n",
       "7       [0.698039215686, 0.694117647059, 0.69803921568...\n",
       "8       [0.643137254902, 0.619607843137, 0.46274509803...\n",
       "9       [0.886274509804, 0.890196078431, 0.88235294117...\n",
       "10      [0.203921568627, 0.2, 0.211764705882, 0.223529...\n",
       "11      [0.556862745098, 0.486274509804, 0.48235294117...\n",
       "12      [0.337254901961, 0.364705882353, 0.41568627451...\n",
       "13      [0.294117647059, 0.254901960784, 0.24705882352...\n",
       "14      [0.466666666667, 0.41568627451, 0.396078431373...\n",
       "15      [0.203921568627, 0.211764705882, 0.29019607843...\n",
       "16      [0.788235294118, 0.78431372549, 0.792156862745...\n",
       "17      [0.792156862745, 0.788235294118, 0.78823529411...\n",
       "18      [0.709803921569, 0.713725490196, 0.71372549019...\n",
       "19      [0.250980392157, 0.219607843137, 0.20784313725...\n",
       "20      [0.941176470588, 0.941176470588, 0.94117647058...\n",
       "21      [0.960784313725, 0.960784313725, 0.96078431372...\n",
       "22      [0.725490196078, 0.725490196078, 0.73333333333...\n",
       "23      [0.945098039216, 0.945098039216, 0.94509803921...\n",
       "24      [0.427450980392, 0.41568627451, 0.223529411765...\n",
       "25      [0.996078431373, 0.996078431373, 0.99607843137...\n",
       "26      [0.0196078431373, 0.0078431372549, 0.019607843...\n",
       "27      [0.76862745098, 0.764705882353, 0.752941176471...\n",
       "28      [0.694117647059, 0.686274509804, 0.69019607843...\n",
       "29      [0.627450980392, 0.61568627451, 0.623529411765...\n",
       "                              ...                        \n",
       "7019    [0.258823529412, 0.235294117647, 0.31764705882...\n",
       "7020    [0.152941176471, 0.129411764706, 0.10196078431...\n",
       "7021    [0.294117647059, 0.294117647059, 0.29803921568...\n",
       "7022    [0.533333333333, 0.56862745098, 0.666666666667...\n",
       "7023    [0.596078431373, 0.58431372549, 0.545098039216...\n",
       "7024    [0.0588235294118, 0.0588235294118, 0.054901960...\n",
       "7025    [0.18431372549, 0.18431372549, 0.18431372549, ...\n",
       "7026    [0.0666666666667, 0.0745098039216, 0.074509803...\n",
       "7027    [0.109803921569, 0.109803921569, 0.10196078431...\n",
       "7028    [0.333333333333, 0.337254901961, 0.33725490196...\n",
       "7029    [0.0666666666667, 0.0666666666667, 0.066666666...\n",
       "7030    [0.0705882352941, 0.149019607843, 0.1882352941...\n",
       "7031    [0.0313725490196, 0.0588235294118, 0.078431372...\n",
       "7032    [0.76862745098, 0.705882352941, 0.670588235294...\n",
       "7033    [0.572549019608, 0.556862745098, 0.6, 0.658823...\n",
       "7034    [0.254901960784, 0.243137254902, 0.26274509803...\n",
       "7035    [0.607843137255, 0.61568627451, 0.623529411765...\n",
       "7036    [0.96862745098, 0.956862745098, 0.945098039216...\n",
       "7037    [0.949019607843, 0.956862745098, 0.96862745098...\n",
       "7038    [0.23137254902, 0.21568627451, 0.23137254902, ...\n",
       "7039    [0.16862745098, 0.192156862745, 0.223529411765...\n",
       "7040    [0.545098039216, 0.549019607843, 0.56078431372...\n",
       "7041    [0.643137254902, 0.647058823529, 0.65490196078...\n",
       "7042    [0.996078431373, 0.921568627451, 0.74901960784...\n",
       "7043    [0.588235294118, 0.588235294118, 0.51764705882...\n",
       "7044    [0.278431372549, 0.290196078431, 0.33333333333...\n",
       "7045    [0.235294117647, 0.235294117647, 0.24313725490...\n",
       "7046    [0.290196078431, 0.290196078431, 0.29019607843...\n",
       "7047    [0.996078431373, 0.996078431373, 0.99607843137...\n",
       "7048    [0.207843137255, 0.243137254902, 0.26274509803...\n",
       "Name: Image, Length: 7049, dtype: object"
      ]
     },
     "execution_count": 15,
     "metadata": {},
     "output_type": "execute_result"
    }
   ],
   "source": [
    "## normalize\n",
    "X / 255"
   ]
  },
  {
   "cell_type": "code",
   "execution_count": 19,
   "metadata": {},
   "outputs": [
    {
     "data": {
      "text/plain": [
       "<matplotlib.collections.PathCollection at 0x11644fb38>"
      ]
     },
     "execution_count": 19,
     "metadata": {},
     "output_type": "execute_result"
    },
    {
     "data": {
      "image/png": "[encoded data removed]",
      "text/plain": [
       "<matplotlib.figure.Figure at 0x1163679e8>"
      ]
     },
     "metadata": {},
     "output_type": "display_data"
    }
   ],
   "source": [
    "## testing for random picture\n",
    "plt.figure(figsize=(4,4))\n",
    "p = plt.subplot(1, 1, 1)\n",
    "\n",
    "img = X[6122].reshape(96,96)\n",
    "p.imshow(img, cmap='gray')\n",
    "p.scatter(train['left_eye_center_x'][6122], train['left_eye_center_y'][6122], c='red', marker='o')"
   ]
  },
  {
   "cell_type": "code",
   "execution_count": 30,
   "metadata": {},
   "outputs": [],
   "source": [
    "## Now we format training labels\n",
    "##\n",
    "## 30 labels total\n",
    "## we want them to be in order of submittal file\n",
    "##\n",
    "## Creating a matrix of n_samples (7049) X n_labels (30)\n",
    "Y = np.zeros((7049,30))\n",
    "labels = train.columns.tolist()[0:30] ## should give us the column labels\n",
    "\n",
    "for i in range(7049):\n",
    "    for idx, col in enumerate(labels):\n",
    "        Y[i][idx] = train[col][i]\n",
    "\n",
    "#print(Y[4][29] == train['mouth_center_bottom_lip_y'][4])"
   ]
  },
  {
   "cell_type": "code",
   "execution_count": 34,
   "metadata": {},
   "outputs": [
    {
     "name": "stdout",
     "output_type": "stream",
     "text": [
      "['left_eye_center_x', 'left_eye_center_y', 'right_eye_center_x', 'right_eye_center_y', 'left_eye_inner_corner_x', 'left_eye_inner_corner_y', 'left_eye_outer_corner_x', 'left_eye_outer_corner_y', 'right_eye_inner_corner_x', 'right_eye_inner_corner_y', 'right_eye_outer_corner_x', 'right_eye_outer_corner_y', 'left_eyebrow_inner_end_x', 'left_eyebrow_inner_end_y', 'left_eyebrow_outer_end_x', 'left_eyebrow_outer_end_y', 'right_eyebrow_inner_end_x', 'right_eyebrow_inner_end_y', 'right_eyebrow_outer_end_x', 'right_eyebrow_outer_end_y', 'nose_tip_x', 'nose_tip_y', 'mouth_left_corner_x', 'mouth_left_corner_y', 'mouth_right_corner_x', 'mouth_right_corner_y', 'mouth_center_top_lip_x', 'mouth_center_top_lip_y', 'mouth_center_bottom_lip_x', 'mouth_center_bottom_lip_y']\n",
      "<class 'numpy.ndarray'>\n",
      "(7049, 30)\n"
     ]
    }
   ],
   "source": [
    "print(train.columns.tolist()[0:30])\n",
    "print(type(Y))\n",
    "print(Y.shape)"
   ]
  },
  {
   "cell_type": "code",
   "execution_count": 31,
   "metadata": {
    "collapsed": true
   },
   "outputs": [],
   "source": [
    "from sklearn.neural_network import MLPClassifier"
   ]
  },
  {
   "cell_type": "code",
   "execution_count": 35,
   "metadata": {},
   "outputs": [
    {
     "ename": "ValueError",
     "evalue": "setting an array element with a sequence.",
     "output_type": "error",
     "traceback": [
      "\u001b[0;31m---------------------------------------------------------------------------\u001b[0m",
      "\u001b[0;31mValueError\u001b[0m                                Traceback (most recent call last)",
      "\u001b[0;32m<ipython-input-35-b8fdcec197aa>\u001b[0m in \u001b[0;36m<module>\u001b[0;34m()\u001b[0m\n\u001b[1;32m      6\u001b[0m \u001b[0;34m\u001b[0m\u001b[0m\n\u001b[1;32m      7\u001b[0m \u001b[0mmod_baseline\u001b[0m \u001b[0;34m=\u001b[0m \u001b[0mMLPClassifier\u001b[0m\u001b[0;34m(\u001b[0m\u001b[0;34m)\u001b[0m\u001b[0;34m\u001b[0m\u001b[0m\n\u001b[0;32m----> 8\u001b[0;31m \u001b[0mmod_baseline\u001b[0m\u001b[0;34m.\u001b[0m\u001b[0mfit\u001b[0m\u001b[0;34m(\u001b[0m\u001b[0mx_sub_train\u001b[0m\u001b[0;34m,\u001b[0m \u001b[0my_sub_train\u001b[0m\u001b[0;34m)\u001b[0m\u001b[0;34m\u001b[0m\u001b[0m\n\u001b[0m",
      "\u001b[0;32m/Users/Gutwein/anaconda/lib/python3.6/site-packages/sklearn/neural_network/multilayer_perceptron.py\u001b[0m in \u001b[0;36mfit\u001b[0;34m(self, X, y)\u001b[0m\n\u001b[1;32m    616\u001b[0m         \u001b[0mself\u001b[0m \u001b[0;34m:\u001b[0m \u001b[0mreturns\u001b[0m \u001b[0ma\u001b[0m \u001b[0mtrained\u001b[0m \u001b[0mMLP\u001b[0m \u001b[0mmodel\u001b[0m\u001b[0;34m.\u001b[0m\u001b[0;34m\u001b[0m\u001b[0m\n\u001b[1;32m    617\u001b[0m         \"\"\"\n\u001b[0;32m--> 618\u001b[0;31m         \u001b[0;32mreturn\u001b[0m \u001b[0mself\u001b[0m\u001b[0;34m.\u001b[0m\u001b[0m_fit\u001b[0m\u001b[0;34m(\u001b[0m\u001b[0mX\u001b[0m\u001b[0;34m,\u001b[0m \u001b[0my\u001b[0m\u001b[0;34m,\u001b[0m \u001b[0mincremental\u001b[0m\u001b[0;34m=\u001b[0m\u001b[0;32mFalse\u001b[0m\u001b[0;34m)\u001b[0m\u001b[0;34m\u001b[0m\u001b[0m\n\u001b[0m\u001b[1;32m    619\u001b[0m \u001b[0;34m\u001b[0m\u001b[0m\n\u001b[1;32m    620\u001b[0m     \u001b[0;34m@\u001b[0m\u001b[0mproperty\u001b[0m\u001b[0;34m\u001b[0m\u001b[0m\n",
      "\u001b[0;32m/Users/Gutwein/anaconda/lib/python3.6/site-packages/sklearn/neural_network/multilayer_perceptron.py\u001b[0m in \u001b[0;36m_fit\u001b[0;34m(self, X, y, incremental)\u001b[0m\n\u001b[1;32m    328\u001b[0m                              hidden_layer_sizes)\n\u001b[1;32m    329\u001b[0m \u001b[0;34m\u001b[0m\u001b[0m\n\u001b[0;32m--> 330\u001b[0;31m         \u001b[0mX\u001b[0m\u001b[0;34m,\u001b[0m \u001b[0my\u001b[0m \u001b[0;34m=\u001b[0m \u001b[0mself\u001b[0m\u001b[0;34m.\u001b[0m\u001b[0m_validate_input\u001b[0m\u001b[0;34m(\u001b[0m\u001b[0mX\u001b[0m\u001b[0;34m,\u001b[0m \u001b[0my\u001b[0m\u001b[0;34m,\u001b[0m \u001b[0mincremental\u001b[0m\u001b[0;34m)\u001b[0m\u001b[0;34m\u001b[0m\u001b[0m\n\u001b[0m\u001b[1;32m    331\u001b[0m         \u001b[0mn_samples\u001b[0m\u001b[0;34m,\u001b[0m \u001b[0mn_features\u001b[0m \u001b[0;34m=\u001b[0m \u001b[0mX\u001b[0m\u001b[0;34m.\u001b[0m\u001b[0mshape\u001b[0m\u001b[0;34m\u001b[0m\u001b[0m\n\u001b[1;32m    332\u001b[0m \u001b[0;34m\u001b[0m\u001b[0m\n",
      "\u001b[0;32m/Users/Gutwein/anaconda/lib/python3.6/site-packages/sklearn/neural_network/multilayer_perceptron.py\u001b[0m in \u001b[0;36m_validate_input\u001b[0;34m(self, X, y, incremental)\u001b[0m\n\u001b[1;32m    900\u001b[0m     \u001b[0;32mdef\u001b[0m \u001b[0m_validate_input\u001b[0m\u001b[0;34m(\u001b[0m\u001b[0mself\u001b[0m\u001b[0;34m,\u001b[0m \u001b[0mX\u001b[0m\u001b[0;34m,\u001b[0m \u001b[0my\u001b[0m\u001b[0;34m,\u001b[0m \u001b[0mincremental\u001b[0m\u001b[0;34m)\u001b[0m\u001b[0;34m:\u001b[0m\u001b[0;34m\u001b[0m\u001b[0m\n\u001b[1;32m    901\u001b[0m         X, y = check_X_y(X, y, accept_sparse=['csr', 'csc', 'coo'],\n\u001b[0;32m--> 902\u001b[0;31m                          multi_output=True)\n\u001b[0m\u001b[1;32m    903\u001b[0m         \u001b[0;32mif\u001b[0m \u001b[0my\u001b[0m\u001b[0;34m.\u001b[0m\u001b[0mndim\u001b[0m \u001b[0;34m==\u001b[0m \u001b[0;36m2\u001b[0m \u001b[0;32mand\u001b[0m \u001b[0my\u001b[0m\u001b[0;34m.\u001b[0m\u001b[0mshape\u001b[0m\u001b[0;34m[\u001b[0m\u001b[0;36m1\u001b[0m\u001b[0;34m]\u001b[0m \u001b[0;34m==\u001b[0m \u001b[0;36m1\u001b[0m\u001b[0;34m:\u001b[0m\u001b[0;34m\u001b[0m\u001b[0m\n\u001b[1;32m    904\u001b[0m             \u001b[0my\u001b[0m \u001b[0;34m=\u001b[0m \u001b[0mcolumn_or_1d\u001b[0m\u001b[0;34m(\u001b[0m\u001b[0my\u001b[0m\u001b[0;34m,\u001b[0m \u001b[0mwarn\u001b[0m\u001b[0;34m=\u001b[0m\u001b[0;32mTrue\u001b[0m\u001b[0;34m)\u001b[0m\u001b[0;34m\u001b[0m\u001b[0m\n",
      "\u001b[0;32m/Users/Gutwein/anaconda/lib/python3.6/site-packages/sklearn/utils/validation.py\u001b[0m in \u001b[0;36mcheck_X_y\u001b[0;34m(X, y, accept_sparse, dtype, order, copy, force_all_finite, ensure_2d, allow_nd, multi_output, ensure_min_samples, ensure_min_features, y_numeric, warn_on_dtype, estimator)\u001b[0m\n\u001b[1;32m    519\u001b[0m     X = check_array(X, accept_sparse, dtype, order, copy, force_all_finite,\n\u001b[1;32m    520\u001b[0m                     \u001b[0mensure_2d\u001b[0m\u001b[0;34m,\u001b[0m \u001b[0mallow_nd\u001b[0m\u001b[0;34m,\u001b[0m \u001b[0mensure_min_samples\u001b[0m\u001b[0;34m,\u001b[0m\u001b[0;34m\u001b[0m\u001b[0m\n\u001b[0;32m--> 521\u001b[0;31m                     ensure_min_features, warn_on_dtype, estimator)\n\u001b[0m\u001b[1;32m    522\u001b[0m     \u001b[0;32mif\u001b[0m \u001b[0mmulti_output\u001b[0m\u001b[0;34m:\u001b[0m\u001b[0;34m\u001b[0m\u001b[0m\n\u001b[1;32m    523\u001b[0m         y = check_array(y, 'csr', force_all_finite=True, ensure_2d=False,\n",
      "\u001b[0;32m/Users/Gutwein/anaconda/lib/python3.6/site-packages/sklearn/utils/validation.py\u001b[0m in \u001b[0;36mcheck_array\u001b[0;34m(array, accept_sparse, dtype, order, copy, force_all_finite, ensure_2d, allow_nd, ensure_min_samples, ensure_min_features, warn_on_dtype, estimator)\u001b[0m\n\u001b[1;32m    380\u001b[0m                                       force_all_finite)\n\u001b[1;32m    381\u001b[0m     \u001b[0;32melse\u001b[0m\u001b[0;34m:\u001b[0m\u001b[0;34m\u001b[0m\u001b[0m\n\u001b[0;32m--> 382\u001b[0;31m         \u001b[0marray\u001b[0m \u001b[0;34m=\u001b[0m \u001b[0mnp\u001b[0m\u001b[0;34m.\u001b[0m\u001b[0marray\u001b[0m\u001b[0;34m(\u001b[0m\u001b[0marray\u001b[0m\u001b[0;34m,\u001b[0m \u001b[0mdtype\u001b[0m\u001b[0;34m=\u001b[0m\u001b[0mdtype\u001b[0m\u001b[0;34m,\u001b[0m \u001b[0morder\u001b[0m\u001b[0;34m=\u001b[0m\u001b[0morder\u001b[0m\u001b[0;34m,\u001b[0m \u001b[0mcopy\u001b[0m\u001b[0;34m=\u001b[0m\u001b[0mcopy\u001b[0m\u001b[0;34m)\u001b[0m\u001b[0;34m\u001b[0m\u001b[0m\n\u001b[0m\u001b[1;32m    383\u001b[0m \u001b[0;34m\u001b[0m\u001b[0m\n\u001b[1;32m    384\u001b[0m         \u001b[0;32mif\u001b[0m \u001b[0mensure_2d\u001b[0m\u001b[0;34m:\u001b[0m\u001b[0;34m\u001b[0m\u001b[0m\n",
      "\u001b[0;31mValueError\u001b[0m: setting an array element with a sequence."
     ]
    }
   ],
   "source": [
    "## splitting training data\n",
    "x_sub_train = X[:4000]\n",
    "x_sub_dev = X[4000:]\n",
    "y_sub_train = Y[:4000]\n",
    "y_sub_dev = Y[4000:]\n",
    "\n",
    "mod_baseline = MLPClassifier()\n",
    "mod_baseline.fit(x_sub_train, y_sub_train)"
   ]
  },
  {
   "cell_type": "code",
   "execution_count": null,
   "metadata": {
    "collapsed": true
   },
   "outputs": [],
   "source": []
  }
 ],
 "metadata": {
  "anaconda-cloud": {},
  "kernelspec": {
   "display_name": "Python 3",
   "language": "python",
   "name": "python3"
  },
  "language_info": {
   "codemirror_mode": {
    "name": "ipython",
    "version": 3
   },
   "file_extension": ".py",
   "mimetype": "text/x-python",
   "name": "python",
   "nbconvert_exporter": "python",
   "pygments_lexer": "ipython3",
   "version": "3.6.1"
  }
 },
 "nbformat": 4,
 "nbformat_minor": 1
}
