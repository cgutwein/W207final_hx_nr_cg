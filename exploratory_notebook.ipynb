{
 "cells": [
  {
   "cell_type": "code",
   "execution_count": 1,
   "metadata": {
    "collapsed": true
   },
   "outputs": [],
   "source": [
    "import numpy as np\n",
    "import pandas as pd\n",
    "import matplotlib.pyplot as plt\n",
    "from sklearn.datasets import fetch_mldata\n",
    "from IPython.display import display, clear_output \n",
    "from sklearn.metrics import classification_report\n",
    "from sklearn.neighbors import KNeighborsClassifier\n",
    "import time\n",
    "%matplotlib inline"
   ]
  },
  {
   "cell_type": "code",
   "execution_count": 2,
   "metadata": {
    "collapsed": true
   },
   "outputs": [],
   "source": [
    "train = pd.read_csv(\"training.csv\")\n",
    "test = pd.read_csv(\"test.csv\")\n",
    "sample = pd.read_csv(\"SampleSubmission.csv\")\n",
    "ID = pd.read_csv(\"IdLookupTable.csv\")"
   ]
  },
  {
   "cell_type": "code",
   "execution_count": 3,
   "metadata": {
    "collapsed": false
   },
   "outputs": [
    {
     "name": "stdout",
     "output_type": "stream",
     "text": [
      "   left_eye_center_x  left_eye_center_y  right_eye_center_x  \\\n",
      "0          66.033564          39.002274           30.227008   \n",
      "1          64.332936          34.970077           29.949277   \n",
      "2          65.057053          34.909642           30.903789   \n",
      "3          65.225739          37.261774           32.023096   \n",
      "4          66.725301          39.621261           32.244810   \n",
      "\n",
      "   right_eye_center_y  left_eye_inner_corner_x  left_eye_inner_corner_y  \\\n",
      "0           36.421678                59.582075                39.647423   \n",
      "1           33.448715                58.856170                35.274349   \n",
      "2           34.909642                59.412000                36.320968   \n",
      "3           37.261774                60.003339                39.127179   \n",
      "4           38.042032                58.565890                39.621261   \n",
      "\n",
      "   left_eye_outer_corner_x  left_eye_outer_corner_y  right_eye_inner_corner_x  \\\n",
      "0                73.130346                39.969997                 36.356571   \n",
      "1                70.722723                36.187166                 36.034723   \n",
      "2                70.984421                36.320968                 37.678105   \n",
      "3                72.314713                38.380967                 37.618643   \n",
      "4                72.515926                39.884466                 36.982380   \n",
      "\n",
      "   right_eye_inner_corner_y  \\\n",
      "0                 37.389402   \n",
      "1                 34.361532   \n",
      "2                 36.320968   \n",
      "3                 38.754115   \n",
      "4                 39.094852   \n",
      "\n",
      "                         ...                          nose_tip_y  \\\n",
      "0                        ...                           57.066803   \n",
      "1                        ...                           55.660936   \n",
      "2                        ...                           53.538947   \n",
      "3                        ...                           54.166539   \n",
      "4                        ...                           64.889521   \n",
      "\n",
      "   mouth_left_corner_x  mouth_left_corner_y  mouth_right_corner_x  \\\n",
      "0            61.195308            79.970165             28.614496   \n",
      "1            56.421447            76.352000             35.122383   \n",
      "2            60.822947            73.014316             33.726316   \n",
      "3            65.598887            72.703722             37.245496   \n",
      "4            60.671411            77.523239             31.191755   \n",
      "\n",
      "   mouth_right_corner_y  mouth_center_top_lip_x  mouth_center_top_lip_y  \\\n",
      "0             77.388992               43.312602               72.935459   \n",
      "1             76.047660               46.684596               70.266553   \n",
      "2             72.732000               47.274947               70.191789   \n",
      "3             74.195478               50.303165               70.091687   \n",
      "4             76.997301               44.962748               73.707387   \n",
      "\n",
      "   mouth_center_bottom_lip_x  mouth_center_bottom_lip_y  \\\n",
      "0                  43.130707                  84.485774   \n",
      "1                  45.467915                  85.480170   \n",
      "2                  47.274947                  78.659368   \n",
      "3                  51.561183                  78.268383   \n",
      "4                  44.227141                  86.871166   \n",
      "\n",
      "                                               Image  \n",
      "0  238 236 237 238 240 240 239 241 241 243 240 23...  \n",
      "1  219 215 204 196 204 211 212 200 180 168 178 19...  \n",
      "2  144 142 159 180 188 188 184 180 167 132 84 59 ...  \n",
      "3  193 192 193 194 194 194 193 192 168 111 50 12 ...  \n",
      "4  147 148 160 196 215 214 216 217 219 220 206 18...  \n",
      "\n",
      "[5 rows x 31 columns]\n"
     ]
    }
   ],
   "source": [
    "print(train.head())"
   ]
  },
  {
   "cell_type": "code",
   "execution_count": 22,
   "metadata": {
    "collapsed": false
   },
   "outputs": [
    {
     "name": "stdout",
     "output_type": "stream",
     "text": [
      "7049\n",
      "[238 236 237 ...,  70  75  90]\n",
      "9216\n",
      "96.0\n"
     ]
    }
   ],
   "source": [
    "train_data = train['Image']\n",
    "print(len(train_data))\n",
    "# print(train_data[0])\n",
    "train_data_samp = np.asarray([int(n) for n in train_data[0].split()])\n",
    "print(train_data_samp)\n",
    "test_data = test['Image']\n",
    "print(len(train_data_samp))\n",
    "print(len(train_data_samp) / 96)"
   ]
  },
  {
   "cell_type": "code",
   "execution_count": 7,
   "metadata": {
    "collapsed": false
   },
   "outputs": [
    {
     "data": {
      "text/plain": [
       "<matplotlib.collections.PathCollection at 0x10fd15c90>"
      ]
     },
     "execution_count": 7,
     "metadata": {},
     "output_type": "execute_result"
    },
    {
     "data": {
      "image/png": "[encoded data removed]",
      "text/plain": [
       "<matplotlib.figure.Figure at 0x10f795090>"
      ]
     },
     "metadata": {},
     "output_type": "display_data"
    }
   ],
   "source": [
    "## rescale training data to 0,1 scale\n",
    "train_data_samp = train_data_samp / 255.0\n",
    "\n",
    "plt.figure(figsize=(4,4))\n",
    "p = plt.subplot(1, 1, 1)\n",
    "\n",
    "img = train_data_samp.reshape(96,96)\n",
    "p.imshow(img, cmap='gray')\n",
    "p.scatter(train['left_eye_center_x'][0], train['left_eye_center_y'][0], c='red', marker='o')\n",
    "# p.annotate('left eye center', xy=(train['left_eye_center_x'][0], train['left_eye_center_y'][0]), \n",
    "#           xytext=(train['left_eye_center_x'][0] + 1, train['left_eye_center_y'][0] + 1),\n",
    "#            arrowprops=dict(facecolor='red', shrink=0.05),          )"
   ]
  },
  {
   "cell_type": "code",
   "execution_count": 8,
   "metadata": {
    "collapsed": false
   },
   "outputs": [
    {
     "name": "stdout",
     "output_type": "stream",
     "text": [
      "   RowId  Location\n",
      "0      1         0\n",
      "1      2         0\n",
      "2      3         0\n",
      "3      4         0\n",
      "4      5         0\n"
     ]
    }
   ],
   "source": [
    "print(sample.head())"
   ]
  },
  {
   "cell_type": "code",
   "execution_count": 8,
   "metadata": {
    "collapsed": false
   },
   "outputs": [
    {
     "name": "stdout",
     "output_type": "stream",
     "text": [
      "       RowId  ImageId                FeatureName  Location\n",
      "0          1        1          left_eye_center_x       NaN\n",
      "1          2        1          left_eye_center_y       NaN\n",
      "2          3        1         right_eye_center_x       NaN\n",
      "3          4        1         right_eye_center_y       NaN\n",
      "4          5        1    left_eye_inner_corner_x       NaN\n",
      "5          6        1    left_eye_inner_corner_y       NaN\n",
      "6          7        1    left_eye_outer_corner_x       NaN\n",
      "7          8        1    left_eye_outer_corner_y       NaN\n",
      "8          9        1   right_eye_inner_corner_x       NaN\n",
      "9         10        1   right_eye_inner_corner_y       NaN\n",
      "10        11        1   right_eye_outer_corner_x       NaN\n",
      "11        12        1   right_eye_outer_corner_y       NaN\n",
      "12        13        1   left_eyebrow_inner_end_x       NaN\n",
      "13        14        1   left_eyebrow_inner_end_y       NaN\n",
      "14        15        1   left_eyebrow_outer_end_x       NaN\n",
      "15        16        1   left_eyebrow_outer_end_y       NaN\n",
      "16        17        1  right_eyebrow_inner_end_x       NaN\n",
      "17        18        1  right_eyebrow_inner_end_y       NaN\n",
      "18        19        1  right_eyebrow_outer_end_x       NaN\n",
      "19        20        1  right_eyebrow_outer_end_y       NaN\n",
      "20        21        1                 nose_tip_x       NaN\n",
      "21        22        1                 nose_tip_y       NaN\n",
      "22        23        1        mouth_left_corner_x       NaN\n",
      "23        24        1        mouth_left_corner_y       NaN\n",
      "24        25        1       mouth_right_corner_x       NaN\n",
      "25        26        1       mouth_right_corner_y       NaN\n",
      "26        27        1     mouth_center_top_lip_x       NaN\n",
      "27        28        1     mouth_center_top_lip_y       NaN\n",
      "28        29        1  mouth_center_bottom_lip_x       NaN\n",
      "29        30        1  mouth_center_bottom_lip_y       NaN\n",
      "...      ...      ...                        ...       ...\n",
      "27094  27095     1780         right_eye_center_x       NaN\n",
      "27095  27096     1780         right_eye_center_y       NaN\n",
      "27096  27097     1780                 nose_tip_x       NaN\n",
      "27097  27098     1780                 nose_tip_y       NaN\n",
      "27098  27099     1780  mouth_center_bottom_lip_x       NaN\n",
      "27099  27100     1780  mouth_center_bottom_lip_y       NaN\n",
      "27100  27101     1781          left_eye_center_x       NaN\n",
      "27101  27102     1781          left_eye_center_y       NaN\n",
      "27102  27103     1781         right_eye_center_x       NaN\n",
      "27103  27104     1781         right_eye_center_y       NaN\n",
      "27104  27105     1781                 nose_tip_x       NaN\n",
      "27105  27106     1781                 nose_tip_y       NaN\n",
      "27106  27107     1781  mouth_center_bottom_lip_x       NaN\n",
      "27107  27108     1781  mouth_center_bottom_lip_y       NaN\n",
      "27108  27109     1782          left_eye_center_x       NaN\n",
      "27109  27110     1782          left_eye_center_y       NaN\n",
      "27110  27111     1782         right_eye_center_x       NaN\n",
      "27111  27112     1782         right_eye_center_y       NaN\n",
      "27112  27113     1782                 nose_tip_x       NaN\n",
      "27113  27114     1782                 nose_tip_y       NaN\n",
      "27114  27115     1782  mouth_center_bottom_lip_x       NaN\n",
      "27115  27116     1782  mouth_center_bottom_lip_y       NaN\n",
      "27116  27117     1783          left_eye_center_x       NaN\n",
      "27117  27118     1783          left_eye_center_y       NaN\n",
      "27118  27119     1783         right_eye_center_x       NaN\n",
      "27119  27120     1783         right_eye_center_y       NaN\n",
      "27120  27121     1783                 nose_tip_x       NaN\n",
      "27121  27122     1783                 nose_tip_y       NaN\n",
      "27122  27123     1783  mouth_center_bottom_lip_x       NaN\n",
      "27123  27124     1783  mouth_center_bottom_lip_y       NaN\n",
      "\n",
      "[27124 rows x 4 columns]\n"
     ]
    }
   ],
   "source": [
    "print(ID)"
   ]
  },
  {
   "cell_type": "code",
   "execution_count": 42,
   "metadata": {
    "collapsed": false
   },
   "outputs": [],
   "source": [
    "# initiate lists for submission file\n",
    "list_row_IDs = []\n",
    "list_location = []\n",
    "# create an average value for the initial guess of the location of each facial feature\n",
    "average_guess = (len(train_data_samp) / 96)/2\n",
    "# store row ID and average guess to each\n",
    "for i in range(len(ID)):\n",
    "    list_row_IDs.append(ID['RowId'][i])\n",
    "    list_location.append(average_guess)\n",
    "\n",
    "# create a pandas dataframe for the initial file submission\n",
    "data = {'RowId': list_row_IDs, 'Location': list_location}\n",
    "initial_submission = pd.DataFrame(data = data, columns = ['RowId', 'Location'])\n",
    "\n",
    "initial_submission.to_csv('initial_submission.csv', index=False)"
   ]
  }
 ],
 "metadata": {
  "anaconda-cloud": {},
  "kernelspec": {
   "display_name": "Python [conda root]",
   "language": "python",
   "name": "conda-root-py"
  },
  "language_info": {
   "codemirror_mode": {
    "name": "ipython",
    "version": 3
   },
   "file_extension": ".py",
   "mimetype": "text/x-python",
   "name": "python",
   "nbconvert_exporter": "python",
   "pygments_lexer": "ipython3",
   "version": "3.5.2"
  }
 },
 "nbformat": 4,
 "nbformat_minor": 1
}
