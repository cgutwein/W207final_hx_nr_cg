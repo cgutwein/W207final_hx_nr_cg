{
 "cells": [
  {
   "cell_type": "code",
   "execution_count": 1,
   "metadata": {
    "collapsed": true
   },
   "outputs": [],
   "source": [
    "import time\n",
    "import numpy as np\n",
    "import pandas as pd\n",
    "import seaborn as sb\n",
    "from IPython.display import display, clear_output \n",
    "from sklearn.metrics import classification_report, mean_squared_error\n",
    "from sklearn.neighbors import KNeighborsClassifier, KNeighborsRegressor\n",
    "\n",
    "import matplotlib.pyplot as plt\n",
    "%matplotlib inline\n",
    "plt.rcParams['figure.figsize'] = (12, 9)\n",
    "\n",
    "# set random seed to achieve same results each time\n",
    "np.random.seed(23)"
   ]
  },
  {
   "cell_type": "code",
   "execution_count": 11,
   "metadata": {
    "collapsed": true
   },
   "outputs": [],
   "source": [
    "class FacialKeypoints():\n",
    "    \n",
    "    def __init__(self):\n",
    "        self.train_csv = pd.read_csv(\"training.csv\")\n",
    "        self.test_csv = pd.read_csv(\"test.csv\")\n",
    "        self.sample_csv = pd.read_csv(\"SampleSubmission.csv\")\n",
    "        self.ID_csv = pd.read_csv(\"IdLookupTable.csv\")\n",
    "        self.label_names = self.train_csv.columns.tolist()[:-1]\n",
    "        self.create_training(self.train_csv)\n",
    "    \n",
    "    def create_training(self, train_csv, dev_size=1000, nans=True):\n",
    "        if nans == False:\n",
    "            train_csv = train_csv.dropna()\n",
    "        labels = train_csv.loc[:, train_csv.columns != 'Image'].values\n",
    "        data = train_csv['Image'].str.split()\n",
    "        data = np.vstack(data.apply(lambda row: np.asarray([int(n) for n in row])).values)\n",
    "        data = data/255.0                                         # Rescale grayscale values to [0,1].\n",
    "        shuffle = np.random.permutation(np.arange(data.shape[0])) # Shuffle the data\n",
    "        data, labels = data[shuffle], labels[shuffle]             # Splitting into dev and training\n",
    "        self.dev_data,   self.dev_labels   = data[:dev_size], labels[:dev_size]\n",
    "        self.train_data, self.train_labels = data[dev_size:], labels[dev_size:]\n",
    "        return \n",
    "    \n",
    "    def plot_example(self, data, label):\n",
    "        plt.imshow(data.reshape(96, 96), cmap='gray')\n",
    "        plt.scatter(label[0::2], label[1::2], c='red', marker='x')\n",
    "        plt.axis('off')\n",
    "        return\n",
    "    \n",
    "    def _score(y_pred, y_actual):\n",
    "        return\n",
    "    \n",
    "    def preprocessor():\n",
    "        return\n",
    "    \n",
    "    def generate_training():\n",
    "        return\n",
    "    \n",
    "    def blur_training():\n",
    "        return\n",
    "    \n",
    "    def K_nn(k):\n",
    "        return\n",
    "    \n",
    "    def LogReg(alpha):\n",
    "        return\n",
    "    \n",
    "    def MLPRegressor():\n",
    "        return\n",
    "    \n",
    "    pass"
   ]
  },
  {
   "cell_type": "code",
   "execution_count": 12,
   "metadata": {
    "collapsed": true
   },
   "outputs": [],
   "source": [
    "self = FacialKeypoints()"
   ]
  },
  {
   "cell_type": "code",
   "execution_count": null,
   "metadata": {},
   "outputs": [],
   "source": [
    "self.plot_example(self.train_data[25], self.train_labels[25])"
   ]
  },
  {
   "cell_type": "code",
   "execution_count": 13,
   "metadata": {
    "scrolled": false
   },
   "outputs": [],
   "source": [
    "self.create_training(self.train_csv, nans=False)"
   ]
  },
  {
   "cell_type": "code",
   "execution_count": null,
   "metadata": {
    "collapsed": true
   },
   "outputs": [],
   "source": []
  }
 ],
 "metadata": {
  "kernelspec": {
   "display_name": "Python [conda env:python2]",
   "language": "python",
   "name": "conda-env-python2-py"
  },
  "language_info": {
   "codemirror_mode": {
    "name": "ipython",
    "version": 2
   },
   "file_extension": ".py",
   "mimetype": "text/x-python",
   "name": "python",
   "nbconvert_exporter": "python",
   "pygments_lexer": "ipython2",
   "version": "2.7.13"
  }
 },
 "nbformat": 4,
 "nbformat_minor": 2
}
